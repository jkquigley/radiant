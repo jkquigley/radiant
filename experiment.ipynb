{
 "cells": [
  {
   "cell_type": "code",
   "execution_count": 4,
   "outputs": [],
   "source": [
    "##############################\n",
    "# Solves -u'' + u = f        #\n",
    "# With zero Neumann boundary #\n",
    "##############################\n",
    "import radiant as rad\n",
    "import numpy as np\n",
    "\n",
    "\n",
    "# Problem Parameters\n",
    "a = 0\n",
    "b = 2 * np.pi\n",
    "\n",
    "\n",
    "def u(x):\n",
    "    return np.cos(x * 2 * np.pi / (b - a))\n",
    "\n",
    "\n",
    "def f(x):\n",
    "    return ((2 * np.pi / (b - a)) ** 2 + 1) * np.cos(x * 2 * np.pi / (b - a))\n"
   ],
   "metadata": {
    "collapsed": false,
    "ExecuteTime": {
     "end_time": "2024-01-19T17:27:05.571748327Z",
     "start_time": "2024-01-19T17:27:05.526320267Z"
    }
   },
   "id": "eb562929bb1bb3b"
  },
  {
   "cell_type": "code",
   "execution_count": null,
   "outputs": [
    {
     "name": "stdout",
     "output_type": "stream",
     "text": [
      "Trial: 0\n",
      "  N: 10\n",
      "  L2 Relative Error: 0.7108288841750018\n",
      "  System condition number: 16.85359605669534\n",
      "Trial: 1\n",
      "  N: 20\n",
      "  L2 Relative Error: 0.6665511041786354\n",
      "  System condition number: 43.488206035588156\n",
      "Trial: 2\n",
      "  N: 30\n",
      "  L2 Relative Error: 0.6603614344744714\n",
      "  System condition number: 162.01852174049202\n",
      "Trial: 3\n",
      "  N: 40\n",
      "  L2 Relative Error: 0.657839576689004\n",
      "  System condition number: 616.6214086730715\n",
      "Trial: 4\n",
      "  N: 50\n",
      "  L2 Relative Error: 0.656537210882488\n",
      "  System condition number: 1699.3038354580492\n",
      "Trial: 5\n",
      "  N: 60\n",
      "  L2 Relative Error: 0.6555896211242704\n",
      "  System condition number: 4690.773113461524\n",
      "Trial: 6\n",
      "  N: 70\n",
      "  L2 Relative Error: 0.6551004016972233\n",
      "  System condition number: 9343.45046228549\n"
     ]
    }
   ],
   "source": [
    "# Fix delta, vary N\n",
    "# Parameters\n",
    "d = 1\n",
    "k = 1\n",
    "delta = 1.\n",
    "\n",
    "Ns = np.linspace(10, 100, 10, dtype=int)\n",
    "results = np.zeros((Ns.size, 2))\n",
    "\n",
    "for i, N in enumerate(Ns):\n",
    "    phi, points, A, fs = rad.generate(a, b, f, N, d, k, delta)\n",
    "    \n",
    "    # Solve for approximate solution\n",
    "    u_approx, alphas = rad.solve(phi, points, A, fs)\n",
    "    error = rad.error(u, u_approx, a, b)\n",
    "    cond = np.linalg.cond(A)\n",
    "    \n",
    "    results[i,:] = [error, cond]\n",
    "    \n",
    "    print(\"Trial:\", i)\n",
    "    print(\"  N:\", N)\n",
    "    print(\"  L2 Relative Error:\", error)\n",
    "    print(\"  System condition number:\", cond)\n",
    "\n",
    "import matplotlib.pyplot as plt\n",
    "fig, axs = plt.subplots(1, 2)\n",
    "\n",
    "axs[0].set_xlabel(\"No. Centres\")\n",
    "axs[0].set_ylabel(r\"$L^{2}$ Relative Error\")\n",
    "axs[0].plot(Ns, results[:, 0])\n",
    "\n",
    "axs[1].set_xlabel(\"No. Centres\")\n",
    "axs[1].set_ylabel(\"Matrix Condition Number\")\n",
    "axs[1].plot(Ns, results[:, 1])\n",
    "\n",
    "plt.show()\n",
    "\n",
    "# TODO:\n",
    "# Look at cond number\n",
    "#   - Fix delta change N\n",
    "#   - Fix N look at delta\n",
    "# Multilevel algorithm for plain vanilla function approx\n"
   ],
   "metadata": {
    "collapsed": false,
    "is_executing": true,
    "ExecuteTime": {
     "start_time": "2024-01-19T17:27:05.571567619Z"
    }
   },
   "id": "2230448d3cb39233"
  },
  {
   "cell_type": "code",
   "execution_count": null,
   "outputs": [],
   "source": [],
   "metadata": {
    "collapsed": false,
    "is_executing": true
   },
   "id": "96af79f57752be1e"
  }
 ],
 "metadata": {
  "kernelspec": {
   "display_name": "Python 3",
   "language": "python",
   "name": "python3"
  },
  "language_info": {
   "codemirror_mode": {
    "name": "ipython",
    "version": 2
   },
   "file_extension": ".py",
   "mimetype": "text/x-python",
   "name": "python",
   "nbconvert_exporter": "python",
   "pygments_lexer": "ipython2",
   "version": "2.7.6"
  }
 },
 "nbformat": 4,
 "nbformat_minor": 5
}

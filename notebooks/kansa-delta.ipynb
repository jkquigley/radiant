{
 "cells": [
  {
   "cell_type": "code",
   "execution_count": 4,
   "outputs": [],
   "source": [
    "import radiant as rad\n",
    "import numpy as np\n",
    "import matplotlib.pyplot as plt\n",
    "\n",
    "\n",
    "# Problem Parameters\n",
    "a = 0.\n",
    "b = 1.\n",
    "\n",
    "\n",
    "def exact(*x):\n",
    "    return np.prod(np.sin(np.asarray(x) * 2 * np.pi / (b - a)), axis=0)\n",
    "\n",
    "\n",
    "def f(*x):\n",
    "    return (len(x) * (2 * np.pi / (b - a)) ** 2) * exact(*x)\n",
    "\n",
    "\n",
    "def g(*x):\n",
    "    return np.zeros_like(x[0])"
   ],
   "metadata": {
    "collapsed": false,
    "ExecuteTime": {
     "end_time": "2024-03-15T09:56:54.760937418Z",
     "start_time": "2024-03-15T09:56:54.714410382Z"
    }
   },
   "id": "eb562929bb1bb3b"
  },
  {
   "cell_type": "code",
   "execution_count": 5,
   "outputs": [
    {
     "name": "stdout",
     "output_type": "stream",
     "text": [
      "Delta: 0.2\n",
      "  L2 Relative Error: 0.616781749323488\n",
      "  Condition Number: 51.0666557162626\n",
      "  Bandwidth: 31\n",
      "Delta: 0.30000000000000004\n",
      "  L2 Relative Error: 0.920972869686792\n",
      "  Condition Number: 148.90064625525542\n",
      "  Bandwidth: 52\n",
      "Delta: 0.4000000000000001\n",
      "  L2 Relative Error: 1.0162167313081192\n",
      "  Condition Number: 1175.8170966605287\n",
      "  Bandwidth: 71\n",
      "Delta: 0.5000000000000001\n",
      "  L2 Relative Error: 1.0754772460495783\n",
      "  Condition Number: 15504.1679179893\n",
      "  Bandwidth: 84\n",
      "Delta: 0.6000000000000001\n",
      "  L2 Relative Error: 1.097087834103271\n",
      "  Condition Number: 113430.90428918334\n",
      "  Bandwidth: 95\n",
      "Delta: 0.7000000000000002\n",
      "  L2 Relative Error: 1.1058324538017565\n",
      "  Condition Number: 720138.6052863131\n",
      "  Bandwidth: 98\n",
      "Delta: 0.8000000000000003\n",
      "  L2 Relative Error: 1.1088451434458129\n",
      "  Condition Number: 3073704.823493542\n",
      "  Bandwidth: 99\n",
      "Delta: 0.9000000000000001\n",
      "  L2 Relative Error: 1.110507320298418\n",
      "  Condition Number: 11417662.010478435\n",
      "  Bandwidth: 99\n",
      "Delta: 1.0000000000000002\n",
      "  L2 Relative Error: 1.1112027184068831\n",
      "  Condition Number: 35337493.57441563\n",
      "  Bandwidth: 99\n",
      "Delta: 1.1000000000000003\n",
      "  L2 Relative Error: 1.111547521336877\n",
      "  Condition Number: 94968411.00398406\n",
      "  Bandwidth: 99\n",
      "Delta: 1.2000000000000004\n",
      "  L2 Relative Error: 1.1117612522305613\n",
      "  Condition Number: 229882115.75271875\n",
      "  Bandwidth: 99\n",
      "Delta: 1.3000000000000003\n",
      "  L2 Relative Error: 1.1118884924352288\n",
      "  Condition Number: 502196372.6429486\n",
      "  Bandwidth: 99\n",
      "Delta: 1.4000000000000004\n",
      "  L2 Relative Error: 1.111961588885407\n",
      "  Condition Number: 1010078117.5738534\n",
      "  Bandwidth: 99\n",
      "Delta: 1.5000000000000004\n",
      "  L2 Relative Error: 1.1120057470731441\n",
      "  Condition Number: 1882617097.0261757\n",
      "  Bandwidth: 99\n",
      "Delta: 1.6000000000000003\n",
      "  L2 Relative Error: 1.112034310939351\n",
      "  Condition Number: 3273582070.4979663\n",
      "  Bandwidth: 99\n",
      "Delta: 1.7000000000000004\n",
      "  L2 Relative Error: 1.1120537077831436\n",
      "  Condition Number: 5551126973.593303\n",
      "  Bandwidth: 99\n"
     ]
    },
    {
     "ename": "KeyboardInterrupt",
     "evalue": "",
     "output_type": "error",
     "traceback": [
      "\u001B[0;31m---------------------------------------------------------------------------\u001B[0m",
      "\u001B[0;31mKeyboardInterrupt\u001B[0m                         Traceback (most recent call last)",
      "Cell \u001B[0;32mIn[5], line 32\u001B[0m\n\u001B[1;32m     30\u001B[0m solver \u001B[38;5;241m=\u001B[39m rad\u001B[38;5;241m.\u001B[39msolve\u001B[38;5;241m.\u001B[39mGalerkinSolver(phi, integrator, \u001B[38;5;124m'\u001B[39m\u001B[38;5;124mhelmholtz\u001B[39m\u001B[38;5;124m'\u001B[39m)\n\u001B[1;32m     31\u001B[0m \u001B[38;5;66;03m# solver = rad.solve.CollocationSolver(phi, operators, idx_funcs)\u001B[39;00m\n\u001B[0;32m---> 32\u001B[0m approx \u001B[38;5;241m=\u001B[39m \u001B[43msolver\u001B[49m\u001B[38;5;241;43m.\u001B[39;49m\u001B[43msolve\u001B[49m\u001B[43m(\u001B[49m\u001B[43mf\u001B[49m\u001B[43m)\u001B[49m\n\u001B[1;32m     33\u001B[0m \u001B[38;5;66;03m# approx = solver.solve(f, g)\u001B[39;00m\n\u001B[1;32m     34\u001B[0m error \u001B[38;5;241m=\u001B[39m rad\u001B[38;5;241m.\u001B[39merror(exact, approx, error_integrator, relative\u001B[38;5;241m=\u001B[39m\u001B[38;5;28;01mFalse\u001B[39;00m)\n",
      "File \u001B[0;32m~/Projects/radiant/radiant/solve/base.py:21\u001B[0m, in \u001B[0;36mBaseSolver.solve\u001B[0;34m(self, precond, *funcs)\u001B[0m\n\u001B[1;32m     19\u001B[0m \u001B[38;5;28;01mdef\u001B[39;00m \u001B[38;5;21msolve\u001B[39m(\u001B[38;5;28mself\u001B[39m, \u001B[38;5;241m*\u001B[39mfuncs, precond\u001B[38;5;241m=\u001B[39m\u001B[38;5;28;01mFalse\u001B[39;00m):\n\u001B[1;32m     20\u001B[0m     \u001B[38;5;28;01mif\u001B[39;00m \u001B[38;5;28mself\u001B[39m\u001B[38;5;241m.\u001B[39mmat \u001B[38;5;129;01mis\u001B[39;00m \u001B[38;5;28;01mNone\u001B[39;00m:\n\u001B[0;32m---> 21\u001B[0m         \u001B[38;5;28mself\u001B[39m\u001B[38;5;241m.\u001B[39mmat \u001B[38;5;241m=\u001B[39m \u001B[38;5;28;43mself\u001B[39;49m\u001B[38;5;241;43m.\u001B[39;49m\u001B[43mgen_mat\u001B[49m\u001B[43m(\u001B[49m\u001B[43m)\u001B[49m\n\u001B[1;32m     23\u001B[0m         \u001B[38;5;28;01mif\u001B[39;00m precond:\n\u001B[1;32m     24\u001B[0m             \u001B[38;5;28mself\u001B[39m\u001B[38;5;241m.\u001B[39mdiag \u001B[38;5;241m=\u001B[39m \u001B[38;5;241m1\u001B[39m \u001B[38;5;241m/\u001B[39m np\u001B[38;5;241m.\u001B[39mdiag(\u001B[38;5;28mself\u001B[39m\u001B[38;5;241m.\u001B[39mmat)\n",
      "File \u001B[0;32m~/Projects/radiant/radiant/solve/galerkin.py:52\u001B[0m, in \u001B[0;36mGalerkinSolver.gen_mat\u001B[0;34m(self)\u001B[0m\n\u001B[1;32m     50\u001B[0m     \u001B[38;5;28;01mfor\u001B[39;00m j \u001B[38;5;129;01min\u001B[39;00m \u001B[38;5;28mrange\u001B[39m(i):\n\u001B[1;32m     51\u001B[0m         phij \u001B[38;5;241m=\u001B[39m \u001B[38;5;28mself\u001B[39m\u001B[38;5;241m.\u001B[39mphi[j]\n\u001B[0;32m---> 52\u001B[0m         mat[i, j] \u001B[38;5;241m=\u001B[39m \u001B[38;5;28;43mself\u001B[39;49m\u001B[38;5;241;43m.\u001B[39;49m\u001B[43mintegrator\u001B[49m\u001B[43m(\u001B[49m\n\u001B[1;32m     53\u001B[0m \u001B[43m            \u001B[49m\u001B[38;5;28;43mself\u001B[39;49m\u001B[38;5;241;43m.\u001B[39;49m\u001B[43mbilinear_integrand_factory\u001B[49m\u001B[43m(\u001B[49m\u001B[43mphii\u001B[49m\u001B[43m,\u001B[49m\u001B[43m \u001B[49m\u001B[43mphij\u001B[49m\u001B[43m)\u001B[49m\n\u001B[1;32m     54\u001B[0m \u001B[43m        \u001B[49m\u001B[43m)\u001B[49m\n\u001B[1;32m     55\u001B[0m         mat[j, i] \u001B[38;5;241m=\u001B[39m mat[i, j]\n\u001B[1;32m     57\u001B[0m \u001B[38;5;28;01mreturn\u001B[39;00m mat\n",
      "File \u001B[0;32m~/Projects/radiant/radiant/integrate/mean.py:15\u001B[0m, in \u001B[0;36mMeanIntegrator.__call__\u001B[0;34m(self, func)\u001B[0m\n\u001B[1;32m     14\u001B[0m \u001B[38;5;28;01mdef\u001B[39;00m \u001B[38;5;21m__call__\u001B[39m(\u001B[38;5;28mself\u001B[39m, func):\n\u001B[0;32m---> 15\u001B[0m     \u001B[38;5;28;01mreturn\u001B[39;00m \u001B[38;5;28mself\u001B[39m\u001B[38;5;241m.\u001B[39mmeasure \u001B[38;5;241m*\u001B[39m (cp\u001B[38;5;241m.\u001B[39mmean(\u001B[43mcp\u001B[49m\u001B[38;5;241;43m.\u001B[39;49m\u001B[43marray\u001B[49m\u001B[43m(\u001B[49m\u001B[43mfunc\u001B[49m\u001B[43m(\u001B[49m\u001B[38;5;241;43m*\u001B[39;49m\u001B[38;5;28;43mself\u001B[39;49m\u001B[38;5;241;43m.\u001B[39;49m\u001B[43mx\u001B[49m\u001B[43m)\u001B[49m\u001B[43m)\u001B[49m))\u001B[38;5;241m.\u001B[39mget()\n",
      "File \u001B[0;32m~/Projects/radiant/venv/lib/python3.10/site-packages/cupy/_creation/from_data.py:53\u001B[0m, in \u001B[0;36marray\u001B[0;34m(obj, dtype, copy, order, subok, ndmin, blocking)\u001B[0m\n\u001B[1;32m      7\u001B[0m \u001B[38;5;28;01mdef\u001B[39;00m \u001B[38;5;21marray\u001B[39m(obj, dtype\u001B[38;5;241m=\u001B[39m\u001B[38;5;28;01mNone\u001B[39;00m, copy\u001B[38;5;241m=\u001B[39m\u001B[38;5;28;01mTrue\u001B[39;00m, order\u001B[38;5;241m=\u001B[39m\u001B[38;5;124m'\u001B[39m\u001B[38;5;124mK\u001B[39m\u001B[38;5;124m'\u001B[39m, subok\u001B[38;5;241m=\u001B[39m\u001B[38;5;28;01mFalse\u001B[39;00m, ndmin\u001B[38;5;241m=\u001B[39m\u001B[38;5;241m0\u001B[39m, \u001B[38;5;241m*\u001B[39m,\n\u001B[1;32m      8\u001B[0m           blocking\u001B[38;5;241m=\u001B[39m\u001B[38;5;28;01mFalse\u001B[39;00m):\n\u001B[1;32m      9\u001B[0m \u001B[38;5;250m    \u001B[39m\u001B[38;5;124;03m\"\"\"Creates an array on the current device.\u001B[39;00m\n\u001B[1;32m     10\u001B[0m \n\u001B[1;32m     11\u001B[0m \u001B[38;5;124;03m    This function currently does not support the ``subok`` option.\u001B[39;00m\n\u001B[0;32m   (...)\u001B[0m\n\u001B[1;32m     51\u001B[0m \n\u001B[1;32m     52\u001B[0m \u001B[38;5;124;03m    \"\"\"\u001B[39;00m\n\u001B[0;32m---> 53\u001B[0m     \u001B[38;5;28;01mreturn\u001B[39;00m \u001B[43m_core\u001B[49m\u001B[38;5;241;43m.\u001B[39;49m\u001B[43marray\u001B[49m\u001B[43m(\u001B[49m\u001B[43mobj\u001B[49m\u001B[43m,\u001B[49m\u001B[43m \u001B[49m\u001B[43mdtype\u001B[49m\u001B[43m,\u001B[49m\u001B[43m \u001B[49m\u001B[43mcopy\u001B[49m\u001B[43m,\u001B[49m\u001B[43m \u001B[49m\u001B[43morder\u001B[49m\u001B[43m,\u001B[49m\u001B[43m \u001B[49m\u001B[43msubok\u001B[49m\u001B[43m,\u001B[49m\u001B[43m \u001B[49m\u001B[43mndmin\u001B[49m\u001B[43m,\u001B[49m\u001B[43m \u001B[49m\u001B[43mblocking\u001B[49m\u001B[43m)\u001B[49m\n",
      "\u001B[0;31mKeyboardInterrupt\u001B[0m: "
     ]
    }
   ],
   "source": [
    "# Parameters\n",
    "d = 2\n",
    "k = 2\n",
    "deltas = np.arange(0.2, 2.1, 0.1)\n",
    "N = 10\n",
    "\n",
    "# Computed Parameters\n",
    "ranges = ((a, b),) * d\n",
    "xc = rad.gridn(ranges, N, flat=True)\n",
    "\n",
    "idx_funcs = [\n",
    "    lambda cs: np.all([np.logical_and(c != a, c != b) for c in cs], axis=0),\n",
    "    lambda cs: np.any([np.logical_or(c == a, c == b) for c in cs], axis=0),\n",
    "]\n",
    "operators = [\n",
    "    lambda func: lambda *x: - func.laplacian(*x),\n",
    "    lambda func: lambda *x: func(*x),\n",
    "]\n",
    "\n",
    "# Integration\n",
    "error_integrator = rad.integrate.QuadIntegrator(ranges)\n",
    "\n",
    "# Data collection\n",
    "results = np.zeros((np.size(deltas), 3))\n",
    "\n",
    "for i, delta in enumerate(deltas):\n",
    "    # Solve for approximate solution\n",
    "    phi = rad.Wendland(d, k, delta, xc)\n",
    "    solver = rad.solve.CollocationSolver(phi, operators, idx_funcs)\n",
    "    approx = solver.solve(f, g)\n",
    "    error = rad.error(exact, approx, error_integrator, relative=False)\n",
    "    cond = solver.cond()\n",
    "    bw = np.max(solver.bandwidth())\n",
    "    \n",
    "    results[i,0] = error\n",
    "    results[i, 1] = cond\n",
    "    results[i, 2] = bw\n",
    "    \n",
    "    print(\"Delta:\", delta)\n",
    "    print(\"  L2 Relative Error:\", error)\n",
    "    print(\"  Condition Number:\", cond)\n",
    "    print(\"  Bandwidth:\", bw)"
   ],
   "metadata": {
    "collapsed": false,
    "ExecuteTime": {
     "end_time": "2024-03-15T09:59:20.249144583Z",
     "start_time": "2024-03-15T09:56:54.760407164Z"
    }
   },
   "id": "2ffd7d4b4af23bf6"
  },
  {
   "cell_type": "code",
   "execution_count": null,
   "outputs": [],
   "source": [
    "fig, axs = plt.subplots(1, 3, figsize=(12,3))\n",
    "\n",
    "axs[0].set_xlabel(r\"$\\delta$\")\n",
    "axs[0].set_ylabel(r\"$\\| u - s\\|_{L^{2}}$\")\n",
    "axs[0].set_yscale('log')\n",
    "axs[0].plot(deltas, results[:, 0], 'o-')\n",
    "\n",
    "axs[1].set_xlabel(r\"$\\delta$\")\n",
    "axs[1].set_ylabel(r\"$\\kappa_{2}\\left(A_{L}\\right)$\")\n",
    "axs[1].set_yscale('log')\n",
    "axs[1].plot(deltas, results[:, 1], 'o-')\n",
    "\n",
    "axs[2].set_xlabel(r\"$\\delta$\")\n",
    "axs[2].set_ylabel(r\"$A_{L}$ Bandwidth\")\n",
    "axs[2].plot(deltas, results[:, 2], 'o-')\n",
    "\n",
    "plt.subplots_adjust(wspace=0.5)\n",
    "plt.savefig(\"figures/c3-kansa-poisson-deltas.pdf\", bbox_inches='tight')"
   ],
   "metadata": {
    "collapsed": false,
    "ExecuteTime": {
     "end_time": "2024-03-15T09:59:20.249518520Z",
     "start_time": "2024-03-15T09:59:20.249339247Z"
    }
   },
   "id": "2230448d3cb39233"
  },
  {
   "cell_type": "code",
   "execution_count": null,
   "outputs": [],
   "source": [],
   "metadata": {
    "collapsed": false,
    "ExecuteTime": {
     "start_time": "2024-03-15T09:59:20.251011325Z"
    }
   },
   "id": "8f54617d9264b6eb"
  }
 ],
 "metadata": {
  "kernelspec": {
   "display_name": "Python 3",
   "language": "python",
   "name": "python3"
  },
  "language_info": {
   "codemirror_mode": {
    "name": "ipython",
    "version": 2
   },
   "file_extension": ".py",
   "mimetype": "text/x-python",
   "name": "python",
   "nbconvert_exporter": "python",
   "pygments_lexer": "ipython2",
   "version": "2.7.6"
  }
 },
 "nbformat": 4,
 "nbformat_minor": 5
}

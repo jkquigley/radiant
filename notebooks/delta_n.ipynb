{
 "cells": [
  {
   "cell_type": "code",
   "execution_count": 7,
   "outputs": [],
   "source": [
    "##############################\n",
    "# Solves -u'' + u = f        #\n",
    "# With zero Neumann boundary #\n",
    "##############################\n",
    "import radiant as rad\n",
    "import numpy as np\n",
    "\n",
    "\n",
    "# Problem Parameters\n",
    "a = -0.5\n",
    "b = 0.5\n",
    "\n",
    "\n",
    "def exact(*x):\n",
    "    return np.prod(np.cos(np.asarray(x) * 2 * np.pi / (b - a)), axis=0)\n",
    "\n",
    "\n",
    "def f(*x):\n",
    "    return (len(x) * (2 * np.pi / (b - a)) ** 2 + 1) * exact(*x)  "
   ],
   "metadata": {
    "collapsed": false,
    "ExecuteTime": {
     "end_time": "2024-02-16T16:06:09.560174123Z",
     "start_time": "2024-02-16T16:06:09.513241765Z"
    }
   },
   "id": "eb562929bb1bb3b"
  },
  {
   "cell_type": "code",
   "execution_count": 8,
   "outputs": [
    {
     "name": "stdout",
     "output_type": "stream",
     "text": [
      "N: 10\n",
      "  Delta: 0.4\n",
      "  L2 Relative Error: 0.05346275801192353\n",
      "  Condition Number: 181.86030364127706\n",
      "N: 20\n",
      "  Delta: 0.2\n",
      "  L2 Relative Error: 0.15645993473219572\n",
      "  Condition Number: 455.38282146213174\n",
      "N: 30\n",
      "  Delta: 0.13333333333333333\n",
      "  L2 Relative Error: 0.31451114196332725\n",
      "  Condition Number: 571.9259742100414\n",
      "N: 40\n",
      "  Delta: 0.1\n",
      "  L2 Relative Error: 0.5208433733450052\n",
      "  Condition Number: 806.4968238355799\n",
      "N: 50\n",
      "  Delta: 0.08\n",
      "  L2 Relative Error: 0.8032876527318122\n",
      "  Condition Number: 1392.405216360339\n",
      "N: 60\n",
      "  Delta: 0.06666666666666667\n",
      "  L2 Relative Error: 1.2169807772779824\n",
      "  Condition Number: 2323.303928857331\n",
      "N: 70\n",
      "  Delta: 0.05714285714285714\n",
      "  L2 Relative Error: 1.8856286300690295\n",
      "  Condition Number: 3915.5136016512124\n",
      "N: 80\n",
      "  Delta: 0.05\n",
      "  L2 Relative Error: 3.1580548064219207\n",
      "  Condition Number: 7064.301020835476\n",
      "N: 90\n",
      "  Delta: 0.044444444444444446\n",
      "  L2 Relative Error: 6.5513397487181475\n",
      "  Condition Number: 15664.072433217973\n",
      "N: 100\n",
      "  Delta: 0.04\n",
      "  L2 Relative Error: 44.531973637292914\n",
      "  Condition Number: 113117.53867154458\n"
     ]
    }
   ],
   "source": [
    "# Parameters\n",
    "d = 1\n",
    "k = 1\n",
    "Ns = np.linspace(10, 100, 10, dtype=int)\n",
    "\n",
    "# Computed Parameters\n",
    "ranges = ((a, b),) * d\n",
    "integrator = rad.integrate.MeanIntegrator(ranges, 1000)\n",
    "# integrator = rad.integrate.QuadIntegrator(ranges, epsabs=1e-3, epsrel=1e-3)\n",
    "\n",
    "# Data collection\n",
    "results = np.zeros((np.size(Ns), 2))\n",
    "\n",
    "for i, N in enumerate(Ns):\n",
    "    xc = rad.gridn(ranges, N, flat=True)\n",
    "    delta = 4 * (b - a) / N\n",
    "\n",
    "    # Solve for approximate solution\n",
    "    solver = rad.solve.GalerkinSolver(d, k, delta, xc, integrator, 'helmholtz')\n",
    "    approx = solver.solve(f)\n",
    "    error = rad.error(exact, approx, integrator)\n",
    "    cond = solver.cond()\n",
    "    \n",
    "    results[i,0] = error \n",
    "    results[i, 1] = solver.cond()\n",
    "    \n",
    "    print(\"N:\", N)\n",
    "    print(\"  Delta:\", delta)\n",
    "    print(\"  L2 Relative Error:\", error)\n",
    "    print(\"  Condition Number:\", solver.cond())"
   ],
   "metadata": {
    "collapsed": false,
    "ExecuteTime": {
     "end_time": "2024-02-16T16:06:19.061943432Z",
     "start_time": "2024-02-16T16:06:09.560064539Z"
    }
   },
   "id": "2ffd7d4b4af23bf6"
  },
  {
   "cell_type": "code",
   "execution_count": 9,
   "outputs": [
    {
     "data": {
      "text/plain": "<Figure size 1000x400 with 2 Axes>",
      "image/png": "[encoded data removed]"
     },
     "metadata": {},
     "output_type": "display_data"
    }
   ],
   "source": [
    "import matplotlib.pyplot as plt\n",
    "\n",
    "\n",
    "fig, axs = plt.subplots(1, 2, figsize=(10,4))\n",
    "\n",
    "axs[0].set_xlabel(\"No. Centres\")\n",
    "axs[0].set_ylabel(r\"$L^{2}$ Relative Error\")\n",
    "axs[0].plot(Ns, results[:, 0], '.')\n",
    "\n",
    "axs[1].set_xlabel(\"No. Centres\")\n",
    "axs[1].set_ylabel(\"Condition Number\")\n",
    "axs[1].plot(Ns, results[:, 1], '.')\n",
    "\n",
    "plt.subplots_adjust(wspace=0.5)\n",
    "plt.show()"
   ],
   "metadata": {
    "collapsed": false,
    "ExecuteTime": {
     "end_time": "2024-02-16T16:06:19.421296664Z",
     "start_time": "2024-02-16T16:06:19.069644225Z"
    }
   },
   "id": "2230448d3cb39233"
  }
 ],
 "metadata": {
  "kernelspec": {
   "display_name": "Python 3",
   "language": "python",
   "name": "python3"
  },
  "language_info": {
   "codemirror_mode": {
    "name": "ipython",
    "version": 2
   },
   "file_extension": ".py",
   "mimetype": "text/x-python",
   "name": "python",
   "nbconvert_exporter": "python",
   "pygments_lexer": "ipython2",
   "version": "2.7.6"
  }
 },
 "nbformat": 4,
 "nbformat_minor": 5
}

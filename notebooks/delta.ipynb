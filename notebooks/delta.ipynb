{
 "cells": [
  {
   "cell_type": "code",
   "execution_count": 17,
   "outputs": [],
   "source": [
    "##############################\n",
    "# Solves -u'' + u = f        #\n",
    "# With zero Neumann boundary #\n",
    "##############################\n",
    "import radiant as rad\n",
    "import numpy as np\n",
    "\n",
    "\n",
    "# Problem Parameters\n",
    "a = -0.5\n",
    "b = 0.5\n",
    "\n",
    "\n",
    "def exact(*x):\n",
    "    return np.prod(np.cos(np.asarray(x) * 2 * np.pi / (b - a)), axis=0)\n",
    "\n",
    "\n",
    "def f(*x):\n",
    "    return (len(x) * (2 * np.pi / (b - a)) ** 2 + 1) * exact(*x)  "
   ],
   "metadata": {
    "collapsed": false,
    "ExecuteTime": {
     "end_time": "2024-02-13T14:13:49.119840167Z",
     "start_time": "2024-02-13T14:13:49.074406198Z"
    }
   },
   "id": "eb562929bb1bb3b"
  },
  {
   "cell_type": "code",
   "execution_count": 18,
   "outputs": [
    {
     "name": "stdout",
     "output_type": "stream",
     "text": [
      "Delta: 0.01\n",
      "  L2 Relative Error: 0.9960486117275932\n",
      "  Condition Number: 7.940868899268669\n",
      "Delta: 0.02\n",
      "  L2 Relative Error: 0.538671948414534\n",
      "  Condition Number: 212.57886325872994\n",
      "Delta: 0.03\n",
      "  L2 Relative Error: 0.5093752263612477\n",
      "  Condition Number: 1112.2083227571338\n",
      "Delta: 0.04\n",
      "  L2 Relative Error: 0.5193105121651954\n",
      "  Condition Number: 1584.6630066905198\n",
      "Delta: 0.05\n",
      "  L2 Relative Error: 0.32486379235921903\n",
      "  Condition Number: 8131.763967069979\n",
      "Delta: 0.06\n",
      "  L2 Relative Error: 0.18821580349451641\n",
      "  Condition Number: 14066.744053819326\n",
      "Delta: 0.07\n",
      "  L2 Relative Error: 0.10427530003713488\n",
      "  Condition Number: 58109.38080741579\n",
      "Delta: 0.08\n",
      "  L2 Relative Error: 0.055965153334226976\n",
      "  Condition Number: 93880.12128140329\n",
      "Delta: 0.09\n",
      "  L2 Relative Error: 0.027018395966621193\n",
      "  Condition Number: 245233.49379329002\n",
      "Delta: 0.1\n",
      "  L2 Relative Error: 0.009397931832287019\n",
      "  Condition Number: 372280.7753761892\n",
      "Delta: 0.11\n",
      "  L2 Relative Error: 0.002017704701261272\n",
      "  Condition Number: 754215.0009789241\n",
      "Delta: 0.12\n",
      "  L2 Relative Error: 0.009277267976132035\n",
      "  Condition Number: 1092062.811716411\n",
      "Delta: 0.13\n",
      "  L2 Relative Error: 0.014232720314648208\n",
      "  Condition Number: 1877802.5633093799\n",
      "Delta: 0.14\n",
      "  L2 Relative Error: 0.017684368166656035\n",
      "  Condition Number: 2614489.7650496126\n",
      "Delta: 0.15\n",
      "  L2 Relative Error: 0.020067893912652568\n",
      "  Condition Number: 4021581.9605529895\n",
      "Delta: 0.16\n",
      "  L2 Relative Error: 0.02186369810377842\n",
      "  Condition Number: 5408162.185372519\n",
      "Delta: 0.17\n",
      "  L2 Relative Error: 0.02317154256436022\n",
      "  Condition Number: 7714901.19060316\n",
      "Delta: 0.18\n",
      "  L2 Relative Error: 0.02414198934854322\n",
      "  Condition Number: 9933660.478833586\n",
      "Delta: 0.19\n",
      "  L2 Relative Error: 0.024882668408019202\n",
      "  Condition Number: 13546954.487729093\n",
      "Delta: 0.2\n",
      "  L2 Relative Error: 0.025427756575315992\n",
      "  Condition Number: 17412386.38779611\n"
     ]
    }
   ],
   "source": [
    "# Parameters\n",
    "d = 1\n",
    "k = 1\n",
    "deltas = np.arange(1, 21) / 100\n",
    "N = 100\n",
    "\n",
    "# Computed Parameters\n",
    "ranges = ((a, b),) * d\n",
    "phi = rad.Wendland(d, k)\n",
    "xc = rad.gridn(ranges, N, flat=True)\n",
    "integrator = rad.integrate.MeanIntegrator(ranges, 2000)\n",
    "# integrator = rad.integrate.QuadIntegrator(ranges, epsabs=1e-3, epsrel=1e-3)\n",
    "\n",
    "# Data collection\n",
    "results = np.zeros((np.size(deltas), 2))\n",
    "\n",
    "for i, delta in enumerate(deltas):\n",
    "    # Solve for approximate solution\n",
    "    solver = rad.solve.HelmholtzSolver(integrator, phi, delta, *xc)\n",
    "    approx = solver.solve(f)\n",
    "    error = rad.error(exact, approx, integrator)\n",
    "    cond = solver.cond()\n",
    "    \n",
    "    results[i,0] = error \n",
    "    results[i, 1] = solver.cond()\n",
    "    \n",
    "    print(\"Delta:\", delta)\n",
    "    print(\"  L2 Relative Error:\", error)\n",
    "    print(\"  Condition Number:\", solver.cond())"
   ],
   "metadata": {
    "collapsed": false,
    "ExecuteTime": {
     "end_time": "2024-02-13T14:14:41.703929505Z",
     "start_time": "2024-02-13T14:13:49.119702772Z"
    }
   },
   "id": "2ffd7d4b4af23bf6"
  },
  {
   "cell_type": "code",
   "execution_count": 19,
   "outputs": [
    {
     "data": {
      "text/plain": "<Figure size 1000x400 with 2 Axes>",
      "image/png": "[encoded data removed]"
     },
     "metadata": {},
     "output_type": "display_data"
    }
   ],
   "source": [
    "import matplotlib.pyplot as plt\n",
    "\n",
    "\n",
    "fig, axs = plt.subplots(1, 2, figsize=(10,4))\n",
    "\n",
    "axs[0].set_xlabel(\"Support\")\n",
    "axs[0].set_ylabel(r\"$L^{2}$ Relative Error\")\n",
    "axs[0].set_yscale('log')\n",
    "axs[0].plot(deltas, results[:, 0], '.')\n",
    "\n",
    "axs[1].set_xlabel(\"Support\")\n",
    "axs[1].set_ylabel(\"Matrix Condition Number\")\n",
    "axs[1].set_yscale('log')\n",
    "axs[1].plot(deltas, results[:, 1], '.')\n",
    "\n",
    "plt.subplots_adjust(wspace=0.5)\n",
    "plt.show()"
   ],
   "metadata": {
    "collapsed": false,
    "ExecuteTime": {
     "end_time": "2024-02-13T14:14:42.268307801Z",
     "start_time": "2024-02-13T14:14:41.703611447Z"
    }
   },
   "id": "2230448d3cb39233"
  }
 ],
 "metadata": {
  "kernelspec": {
   "display_name": "Python 3",
   "language": "python",
   "name": "python3"
  },
  "language_info": {
   "codemirror_mode": {
    "name": "ipython",
    "version": 2
   },
   "file_extension": ".py",
   "mimetype": "text/x-python",
   "name": "python",
   "nbconvert_exporter": "python",
   "pygments_lexer": "ipython2",
   "version": "2.7.6"
  }
 },
 "nbformat": 4,
 "nbformat_minor": 5
}

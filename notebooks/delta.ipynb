{
 "cells": [
  {
   "cell_type": "code",
   "execution_count": 14,
   "outputs": [],
   "source": [
    "##############################\n",
    "# Solves -u'' + u = f        #\n",
    "# With zero Neumann boundary #\n",
    "##############################\n",
    "import radiant as rad\n",
    "import numpy as np\n",
    "\n",
    "\n",
    "# Problem Parameters\n",
    "a = -0.5\n",
    "b = 0.5\n",
    "\n",
    "\n",
    "def exact(*x):\n",
    "    return np.prod(np.cos(np.asarray(x) * 2 * np.pi / (b - a)), axis=0)\n",
    "\n",
    "\n",
    "def f(*x):\n",
    "    return (len(x) * (2 * np.pi / (b - a)) ** 2 + 1) * exact(*x)  "
   ],
   "metadata": {
    "collapsed": false,
    "ExecuteTime": {
     "end_time": "2024-02-13T14:11:32.915882782Z",
     "start_time": "2024-02-13T14:11:32.873694499Z"
    }
   },
   "id": "eb562929bb1bb3b"
  },
  {
   "cell_type": "code",
   "execution_count": 15,
   "outputs": [
    {
     "name": "stdout",
     "output_type": "stream",
     "text": [
      "Delta: 0.01\n",
      "  L2 Relative Error: 0.9960422660222635\n",
      "  Condition Number: 7.936213106751422\n",
      "Delta: 0.02\n",
      "  L2 Relative Error: 0.5462284100131202\n",
      "  Condition Number: 210.09850634548522\n",
      "Delta: 0.03\n",
      "  L2 Relative Error: 0.5461170600948562\n",
      "  Condition Number: 1059.0265913268922\n",
      "Delta: 0.04\n",
      "  L2 Relative Error: 0.5495139161762735\n",
      "  Condition Number: 1515.1098416170764\n",
      "Delta: 0.05\n",
      "  L2 Relative Error: 0.3396274067363232\n",
      "  Condition Number: 8131.63119459334\n",
      "Delta: 0.06\n",
      "  L2 Relative Error: 0.1890333572781541\n",
      "  Condition Number: 14066.509278289639\n",
      "Delta: 0.07\n",
      "  L2 Relative Error: 0.09476103907546529\n",
      "  Condition Number: 58105.12799635492\n",
      "Delta: 0.08\n",
      "  L2 Relative Error: 0.039992196446748694\n",
      "  Condition Number: 93877.84809031787\n",
      "Delta: 0.09\n",
      "  L2 Relative Error: 0.0071034141863277386\n",
      "  Condition Number: 245198.27401302237\n",
      "Delta: 0.1\n",
      "  L2 Relative Error: 0.013164971648878773\n",
      "  Condition Number: 372368.47653554357\n",
      "Delta: 0.11\n",
      "  L2 Relative Error: 0.02602038564824549\n",
      "  Condition Number: 754027.2645771395\n",
      "Delta: 0.12\n",
      "  L2 Relative Error: 0.03447873619804732\n",
      "  Condition Number: 1092321.9727205462\n",
      "Delta: 0.13\n",
      "  L2 Relative Error: 0.04016042478013541\n",
      "  Condition Number: 1877259.050060691\n",
      "Delta: 0.14\n",
      "  L2 Relative Error: 0.04410409997757084\n",
      "  Condition Number: 2614307.9583756505\n",
      "Delta: 0.15\n",
      "  L2 Relative Error: 0.046889071741628825\n",
      "  Condition Number: 4020185.299829872\n",
      "Delta: 0.16\n",
      "  L2 Relative Error: 0.04890395980971062\n",
      "  Condition Number: 5408062.531557382\n",
      "Delta: 0.17\n",
      "  L2 Relative Error: 0.0503872445677577\n",
      "  Condition Number: 7711893.963349403\n",
      "Delta: 0.18\n",
      "  L2 Relative Error: 0.05151051375369497\n",
      "  Condition Number: 9926809.677604616\n",
      "Delta: 0.19\n",
      "  L2 Relative Error: 0.05234229167856537\n",
      "  Condition Number: 13542622.333429364\n",
      "Delta: 0.2\n",
      "  L2 Relative Error: 0.053010520282021606\n",
      "  Condition Number: 17409526.522760417\n"
     ]
    }
   ],
   "source": [
    "# Parameters\n",
    "d = 1\n",
    "k = 1\n",
    "deltas = np.arange(1, 21) / 100\n",
    "N = 100\n",
    "\n",
    "# Computed Parameters\n",
    "ranges = ((a, b),) * d\n",
    "phi = rad.Wendland(d, k)\n",
    "xc = rad.gridn(ranges, N, flat=True)\n",
    "integrator = rad.integrate.MeanIntegrator(ranges, 1000)\n",
    "# integrator = rad.integrate.QuadIntegrator(ranges, epsabs=1e-3, epsrel=1e-3)\n",
    "\n",
    "# Data collection\n",
    "results = np.zeros((np.size(deltas), 2))\n",
    "\n",
    "for i, delta in enumerate(deltas):\n",
    "    # Solve for approximate solution\n",
    "    solver = rad.solve.HelmholtzSolver(integrator, phi, delta, *xc)\n",
    "    approx = solver.solve(f)\n",
    "    error = rad.error(exact, approx, integrator)\n",
    "    cond = solver.cond()\n",
    "    \n",
    "    results[i,0] = error \n",
    "    results[i, 1] = solver.cond()\n",
    "    \n",
    "    print(\"Delta:\", delta)\n",
    "    print(\"  L2 Relative Error:\", error)\n",
    "    print(\"  Condition Number:\", solver.cond())"
   ],
   "metadata": {
    "collapsed": false,
    "ExecuteTime": {
     "end_time": "2024-02-13T14:12:22.773152946Z",
     "start_time": "2024-02-13T14:11:32.915723896Z"
    }
   },
   "id": "2ffd7d4b4af23bf6"
  },
  {
   "cell_type": "code",
   "execution_count": 16,
   "outputs": [
    {
     "data": {
      "text/plain": "<Figure size 1000x400 with 2 Axes>",
      "image/png": "[encoded data removed]"
     },
     "metadata": {},
     "output_type": "display_data"
    }
   ],
   "source": [
    "import matplotlib.pyplot as plt\n",
    "\n",
    "\n",
    "fig, axs = plt.subplots(1, 2, figsize=(10,4))\n",
    "\n",
    "axs[0].set_xlabel(\"Support\")\n",
    "axs[0].set_ylabel(r\"$L^{2}$ Relative Error\")\n",
    "axs[0].set_yscale('log')\n",
    "axs[0].plot(deltas, results[:, 0], '.')\n",
    "\n",
    "axs[1].set_xlabel(\"Support\")\n",
    "axs[1].set_ylabel(\"Matrix Condition Number\")\n",
    "axs[1].set_yscale('log')\n",
    "axs[1].plot(deltas, results[:, 1], '.')\n",
    "\n",
    "plt.subplots_adjust(wspace=0.5)\n",
    "plt.show()"
   ],
   "metadata": {
    "collapsed": false,
    "ExecuteTime": {
     "end_time": "2024-02-13T14:12:23.580188216Z",
     "start_time": "2024-02-13T14:12:22.778807865Z"
    }
   },
   "id": "2230448d3cb39233"
  }
 ],
 "metadata": {
  "kernelspec": {
   "display_name": "Python 3",
   "language": "python",
   "name": "python3"
  },
  "language_info": {
   "codemirror_mode": {
    "name": "ipython",
    "version": 2
   },
   "file_extension": ".py",
   "mimetype": "text/x-python",
   "name": "python",
   "nbconvert_exporter": "python",
   "pygments_lexer": "ipython2",
   "version": "2.7.6"
  }
 },
 "nbformat": 4,
 "nbformat_minor": 5
}

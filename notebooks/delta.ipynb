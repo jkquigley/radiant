{
 "cells": [
  {
   "cell_type": "code",
   "execution_count": 1,
   "outputs": [],
   "source": [
    "##############################\n",
    "# Solves -u'' + u = f        #\n",
    "# With zero Neumann boundary #\n",
    "##############################\n",
    "import radiant as rad\n",
    "import numpy as np\n",
    "\n",
    "\n",
    "# Problem Parameters\n",
    "a = -0.5\n",
    "b = 0.5\n",
    "\n",
    "\n",
    "def exact(*x):\n",
    "    return np.prod(np.cos(np.asarray(x) * 2 * np.pi / (b - a)), axis=0)\n",
    "\n",
    "\n",
    "def f(*x):\n",
    "    return (len(x) * (2 * np.pi / (b - a)) ** 2 + 1) * exact(*x)  "
   ],
   "metadata": {
    "collapsed": false,
    "ExecuteTime": {
     "end_time": "2024-02-16T19:28:38.350757683Z",
     "start_time": "2024-02-16T19:28:37.581149148Z"
    }
   },
   "id": "eb562929bb1bb3b"
  },
  {
   "cell_type": "code",
   "execution_count": 2,
   "outputs": [
    {
     "name": "stderr",
     "output_type": "stream",
     "text": [
      "/home/keane/Projects/radiant/venv/lib/python3.10/site-packages/scipy/integrate/_quadpack_py.py:1233: IntegrationWarning: The maximum number of subdivisions (50) has been achieved.\n",
      "  If increasing the limit yields no improvement it is advised to analyze \n",
      "  the integrand in order to determine the difficulties.  If the position of a \n",
      "  local difficulty can be determined (singularity, discontinuity) one will \n",
      "  probably gain from splitting up the interval and calling the integrator \n",
      "  on the subranges.  Perhaps a special-purpose integrator should be used.\n",
      "  quad_r = quad(f, low, high, args=args, full_output=self.full_output,\n"
     ]
    },
    {
     "name": "stdout",
     "output_type": "stream",
     "text": [
      "Delta: 0.01\n",
      "  L2 Relative Error: 0.9965251303679836\n",
      "  Condition Number: 7.466148832076036\n",
      "Delta: 0.02\n",
      "  L2 Relative Error: 0.5573844099126557\n",
      "  Condition Number: 199.7707324899647\n",
      "Delta: 0.03\n",
      "  L2 Relative Error: 0.93574463687086\n",
      "  Condition Number: 1999.6989443571288\n",
      "Delta: 0.04\n",
      "  L2 Relative Error: 8.087310631833981\n",
      "  Condition Number: 22882.337916149547\n",
      "Delta: 0.05\n",
      "  L2 Relative Error: 0.7330178105034237\n",
      "  Condition Number: 7385.334607834178\n",
      "Delta: 0.06\n",
      "  L2 Relative Error: 0.29332733691946844\n",
      "  Condition Number: 13045.455375621828\n",
      "Delta: 0.07\n",
      "  L2 Relative Error: 0.1446800306881745\n",
      "  Condition Number: 52753.627526612094\n",
      "Delta: 0.08\n",
      "  L2 Relative Error: 0.08398773848074427\n",
      "  Condition Number: 86326.30220694265\n",
      "Delta: 0.09\n",
      "  L2 Relative Error: 0.059846154234768696\n",
      "  Condition Number: 222926.95663263067\n",
      "Delta: 0.1\n",
      "  L2 Relative Error: 0.05274765718546532\n",
      "  Condition Number: 341122.1051713184\n",
      "Delta: 0.11\n",
      "  L2 Relative Error: 0.05210737570820813\n",
      "  Condition Number: 687044.6336757783\n",
      "Delta: 0.12\n",
      "  L2 Relative Error: 0.05327322179997672\n",
      "  Condition Number: 1000073.494685365\n",
      "Delta: 0.13\n",
      "  L2 Relative Error: 0.054687225423830275\n",
      "  Condition Number: 1714715.1783754572\n",
      "Delta: 0.14\n",
      "  L2 Relative Error: 0.055927945209535715\n",
      "  Condition Number: 2395902.3859895235\n",
      "Delta: 0.15\n",
      "  L2 Relative Error: 0.05692141681404052\n",
      "  Condition Number: 3681466.882038302\n",
      "Delta: 0.16\n",
      "  L2 Relative Error: 0.057694396520563296\n",
      "  Condition Number: 4961832.223419599\n",
      "Delta: 0.17\n",
      "  L2 Relative Error: 0.058294425845416324\n",
      "  Condition Number: 7078287.702599955\n",
      "Delta: 0.18\n",
      "  L2 Relative Error: 0.058759145807092274\n",
      "  Condition Number: 9134166.87469489\n",
      "Delta: 0.19\n",
      "  L2 Relative Error: 0.05911518886436734\n",
      "  Condition Number: 12454582.104740474\n",
      "Delta: 0.2\n",
      "  L2 Relative Error: 0.05939896237536477\n",
      "  Condition Number: 16019422.734312566\n"
     ]
    }
   ],
   "source": [
    "# Parameters\n",
    "d = 1\n",
    "k = 1\n",
    "deltas = np.arange(1, 21) / 100\n",
    "N = 100\n",
    "\n",
    "# Computed Parameters\n",
    "ranges = ((a, b),) * d\n",
    "xc = rad.gridn(ranges, N, flat=True)\n",
    "\n",
    "# Integration\n",
    "integrator = rad.integrate.MeanIntegrator(ranges, 2000)\n",
    "error_integrator = rad.integrate.QuadIntegrator(ranges)\n",
    "\n",
    "# Data collection\n",
    "results = np.zeros((np.size(deltas), 2))\n",
    "\n",
    "for i, delta in enumerate(deltas):\n",
    "    # Solve for approximate solution\n",
    "    solver = rad.solve.GalerkinSolver(d, k, delta, xc, integrator, 'helmholtz')\n",
    "    approx = solver.solve(f)\n",
    "    error = rad.error(exact, approx, error_integrator)\n",
    "    cond = solver.cond()\n",
    "    \n",
    "    results[i,0] = error\n",
    "    results[i, 1] = solver.cond()\n",
    "    \n",
    "    print(\"Delta:\", delta)\n",
    "    print(\"  L2 Relative Error:\", error)\n",
    "    print(\"  Condition Number:\", solver.cond())"
   ],
   "metadata": {
    "collapsed": false,
    "ExecuteTime": {
     "start_time": "2024-02-16T19:28:38.355477512Z"
    }
   },
   "id": "2ffd7d4b4af23bf6"
  },
  {
   "cell_type": "code",
   "execution_count": 3,
   "outputs": [
    {
     "data": {
      "text/plain": "<Figure size 1000x400 with 2 Axes>",
      "image/png": "[encoded data removed]"
     },
     "metadata": {},
     "output_type": "display_data"
    }
   ],
   "source": [
    "import matplotlib.pyplot as plt\n",
    "\n",
    "\n",
    "fig, axs = plt.subplots(1, 2, figsize=(10,4))\n",
    "\n",
    "axs[0].set_xlabel(\"Support\")\n",
    "axs[0].set_ylabel(r\"$L^{2}$ Relative Error\")\n",
    "axs[0].set_yscale('log')\n",
    "axs[0].plot(deltas, results[:, 0], '.')\n",
    "\n",
    "axs[1].set_xlabel(\"Support\")\n",
    "axs[1].set_ylabel(\"Matrix Condition Number\")\n",
    "axs[1].set_yscale('log')\n",
    "axs[1].plot(deltas, results[:, 1], '.')\n",
    "\n",
    "plt.subplots_adjust(wspace=0.5)\n",
    "plt.show()"
   ],
   "metadata": {
    "collapsed": false,
    "ExecuteTime": {
     "start_time": "2024-02-16T19:29:43.113198793Z"
    }
   },
   "id": "2230448d3cb39233"
  }
 ],
 "metadata": {
  "kernelspec": {
   "display_name": "Python 3",
   "language": "python",
   "name": "python3"
  },
  "language_info": {
   "codemirror_mode": {
    "name": "ipython",
    "version": 2
   },
   "file_extension": ".py",
   "mimetype": "text/x-python",
   "name": "python",
   "nbconvert_exporter": "python",
   "pygments_lexer": "ipython2",
   "version": "2.7.6"
  }
 },
 "nbformat": 4,
 "nbformat_minor": 5
}

{
 "cells": [
  {
   "cell_type": "code",
   "execution_count": 1,
   "outputs": [],
   "source": [
    "import radiant as rad\n",
    "import numpy as np\n",
    "import matplotlib.pyplot as plt\n",
    "\n",
    "\n",
    "# Problem Parameters\n",
    "a = 0.\n",
    "b = 1.\n",
    "\n",
    "\n",
    "def exact(*x):\n",
    "    return np.prod(np.sin(np.asarray(x) * 2 * np.pi / (b - a)), axis=0)\n",
    "\n",
    "\n",
    "def f(*x):\n",
    "    return (len(x) * (2 * np.pi / (b - a)) ** 2) * exact(*x)\n",
    "\n",
    "\n",
    "def g(*x):\n",
    "    return np.zeros_like(x[0])"
   ],
   "metadata": {
    "collapsed": false,
    "ExecuteTime": {
     "end_time": "2024-03-15T09:57:18.503967371Z",
     "start_time": "2024-03-15T09:57:17.792333862Z"
    }
   },
   "id": "eb562929bb1bb3b"
  },
  {
   "cell_type": "code",
   "execution_count": 2,
   "outputs": [
    {
     "name": "stdout",
     "output_type": "stream",
     "text": [
      "N: 3\n",
      "  L2 Relative Error: 0.9798324515368192\n",
      "  Condition Number: 3.816901038168581\n",
      "  Bandwidth: 4\n",
      "N: 4\n",
      "  L2 Relative Error: 0.8597648614673191\n",
      "  Condition Number: 13.630367214308798\n",
      "  Bandwidth: 10\n",
      "N: 5\n",
      "  L2 Relative Error: 2.065576822828394\n",
      "  Condition Number: 101.47586221589043\n",
      "  Bandwidth: 17\n",
      "N: 6\n",
      "  L2 Relative Error: 2.052720425340487\n",
      "  Condition Number: 178.7946778700187\n",
      "  Bandwidth: 26\n",
      "N: 7\n",
      "  L2 Relative Error: 2.02153121883885\n",
      "  Condition Number: 205.09457907163153\n",
      "  Bandwidth: 38\n",
      "N: 8\n",
      "  L2 Relative Error: 2.079494601882365\n",
      "  Condition Number: 801.8184412969515\n",
      "  Bandwidth: 51\n",
      "N: 9\n",
      "  L2 Relative Error: 2.1046055272138773\n",
      "  Condition Number: 3327.7765382117464\n",
      "  Bandwidth: 66\n",
      "N: 10\n",
      "  L2 Relative Error: 2.150954492099158\n",
      "  Condition Number: 15504.167917999986\n",
      "  Bandwidth: 84\n",
      "N: 11\n",
      "  L2 Relative Error: 2.171910206219492\n",
      "  Condition Number: 54288.5756863769\n",
      "  Bandwidth: 103\n",
      "N: 12\n",
      "  L2 Relative Error: 2.1876440970440636\n",
      "  Condition Number: 153740.51337370314\n",
      "  Bandwidth: 124\n",
      "N: 13\n",
      "  L2 Relative Error: 2.196964093872861\n",
      "  Condition Number: 490020.9146588509\n",
      "  Bandwidth: 147\n"
     ]
    },
    {
     "ename": "KeyboardInterrupt",
     "evalue": "",
     "output_type": "error",
     "traceback": [
      "\u001B[0;31m---------------------------------------------------------------------------\u001B[0m",
      "\u001B[0;31mKeyboardInterrupt\u001B[0m                         Traceback (most recent call last)",
      "Cell \u001B[0;32mIn[2], line 33\u001B[0m\n\u001B[1;32m     31\u001B[0m solver \u001B[38;5;241m=\u001B[39m rad\u001B[38;5;241m.\u001B[39msolve\u001B[38;5;241m.\u001B[39mGalerkinSolver(phi, integrator, \u001B[38;5;124m\"\u001B[39m\u001B[38;5;124mhelmholtz\u001B[39m\u001B[38;5;124m\"\u001B[39m)\n\u001B[1;32m     32\u001B[0m \u001B[38;5;66;03m# solver = rad.solve.CollocationSolver(phi, operators, idx_funcs)\u001B[39;00m\n\u001B[0;32m---> 33\u001B[0m approx \u001B[38;5;241m=\u001B[39m \u001B[43msolver\u001B[49m\u001B[38;5;241;43m.\u001B[39;49m\u001B[43msolve\u001B[49m\u001B[43m(\u001B[49m\u001B[43mf\u001B[49m\u001B[43m)\u001B[49m\n\u001B[1;32m     34\u001B[0m \u001B[38;5;66;03m# approx = solver.solve(f, g)\u001B[39;00m\n\u001B[1;32m     35\u001B[0m error \u001B[38;5;241m=\u001B[39m rad\u001B[38;5;241m.\u001B[39merror(exact, approx, error_integrator)\n",
      "File \u001B[0;32m~/Projects/radiant/radiant/solve/base.py:21\u001B[0m, in \u001B[0;36mBaseSolver.solve\u001B[0;34m(self, precond, *funcs)\u001B[0m\n\u001B[1;32m     19\u001B[0m \u001B[38;5;28;01mdef\u001B[39;00m \u001B[38;5;21msolve\u001B[39m(\u001B[38;5;28mself\u001B[39m, \u001B[38;5;241m*\u001B[39mfuncs, precond\u001B[38;5;241m=\u001B[39m\u001B[38;5;28;01mFalse\u001B[39;00m):\n\u001B[1;32m     20\u001B[0m     \u001B[38;5;28;01mif\u001B[39;00m \u001B[38;5;28mself\u001B[39m\u001B[38;5;241m.\u001B[39mmat \u001B[38;5;129;01mis\u001B[39;00m \u001B[38;5;28;01mNone\u001B[39;00m:\n\u001B[0;32m---> 21\u001B[0m         \u001B[38;5;28mself\u001B[39m\u001B[38;5;241m.\u001B[39mmat \u001B[38;5;241m=\u001B[39m \u001B[38;5;28;43mself\u001B[39;49m\u001B[38;5;241;43m.\u001B[39;49m\u001B[43mgen_mat\u001B[49m\u001B[43m(\u001B[49m\u001B[43m)\u001B[49m\n\u001B[1;32m     23\u001B[0m         \u001B[38;5;28;01mif\u001B[39;00m precond:\n\u001B[1;32m     24\u001B[0m             \u001B[38;5;28mself\u001B[39m\u001B[38;5;241m.\u001B[39mdiag \u001B[38;5;241m=\u001B[39m \u001B[38;5;241m1\u001B[39m \u001B[38;5;241m/\u001B[39m np\u001B[38;5;241m.\u001B[39mdiag(\u001B[38;5;28mself\u001B[39m\u001B[38;5;241m.\u001B[39mmat)\n",
      "File \u001B[0;32m~/Projects/radiant/radiant/solve/galerkin.py:52\u001B[0m, in \u001B[0;36mGalerkinSolver.gen_mat\u001B[0;34m(self)\u001B[0m\n\u001B[1;32m     50\u001B[0m     \u001B[38;5;28;01mfor\u001B[39;00m j \u001B[38;5;129;01min\u001B[39;00m \u001B[38;5;28mrange\u001B[39m(i):\n\u001B[1;32m     51\u001B[0m         phij \u001B[38;5;241m=\u001B[39m \u001B[38;5;28mself\u001B[39m\u001B[38;5;241m.\u001B[39mphi[j]\n\u001B[0;32m---> 52\u001B[0m         mat[i, j] \u001B[38;5;241m=\u001B[39m \u001B[38;5;28;43mself\u001B[39;49m\u001B[38;5;241;43m.\u001B[39;49m\u001B[43mintegrator\u001B[49m\u001B[43m(\u001B[49m\n\u001B[1;32m     53\u001B[0m \u001B[43m            \u001B[49m\u001B[38;5;28;43mself\u001B[39;49m\u001B[38;5;241;43m.\u001B[39;49m\u001B[43mbilinear_integrand_factory\u001B[49m\u001B[43m(\u001B[49m\u001B[43mphii\u001B[49m\u001B[43m,\u001B[49m\u001B[43m \u001B[49m\u001B[43mphij\u001B[49m\u001B[43m)\u001B[49m\n\u001B[1;32m     54\u001B[0m \u001B[43m        \u001B[49m\u001B[43m)\u001B[49m\n\u001B[1;32m     55\u001B[0m         mat[j, i] \u001B[38;5;241m=\u001B[39m mat[i, j]\n\u001B[1;32m     57\u001B[0m \u001B[38;5;28;01mreturn\u001B[39;00m mat\n",
      "File \u001B[0;32m~/Projects/radiant/radiant/integrate/mean.py:15\u001B[0m, in \u001B[0;36mMeanIntegrator.__call__\u001B[0;34m(self, func)\u001B[0m\n\u001B[1;32m     14\u001B[0m \u001B[38;5;28;01mdef\u001B[39;00m \u001B[38;5;21m__call__\u001B[39m(\u001B[38;5;28mself\u001B[39m, func):\n\u001B[0;32m---> 15\u001B[0m     \u001B[38;5;28;01mreturn\u001B[39;00m \u001B[38;5;28mself\u001B[39m\u001B[38;5;241m.\u001B[39mmeasure \u001B[38;5;241m*\u001B[39m (cp\u001B[38;5;241m.\u001B[39mmean(cp\u001B[38;5;241m.\u001B[39marray(\u001B[43mfunc\u001B[49m\u001B[43m(\u001B[49m\u001B[38;5;241;43m*\u001B[39;49m\u001B[38;5;28;43mself\u001B[39;49m\u001B[38;5;241;43m.\u001B[39;49m\u001B[43mx\u001B[49m\u001B[43m)\u001B[49m)))\u001B[38;5;241m.\u001B[39mget()\n",
      "File \u001B[0;32m~/Projects/radiant/radiant/solve/galerkin.py:8\u001B[0m, in \u001B[0;36m_helmholtz_bilinear_integrand_factory.<locals>.func\u001B[0;34m(*x)\u001B[0m\n\u001B[1;32m      7\u001B[0m \u001B[38;5;28;01mdef\u001B[39;00m \u001B[38;5;21mfunc\u001B[39m(\u001B[38;5;241m*\u001B[39mx):\n\u001B[0;32m----> 8\u001B[0m     \u001B[38;5;28;01mreturn\u001B[39;00m dot(\u001B[43mu\u001B[49m\u001B[38;5;241;43m.\u001B[39;49m\u001B[43mgrad\u001B[49m\u001B[43m(\u001B[49m\u001B[38;5;241;43m*\u001B[39;49m\u001B[43mx\u001B[49m\u001B[43m)\u001B[49m, v\u001B[38;5;241m.\u001B[39mgrad(\u001B[38;5;241m*\u001B[39mx)) \u001B[38;5;241m-\u001B[39m u(\u001B[38;5;241m*\u001B[39mx) \u001B[38;5;241m*\u001B[39m v(\u001B[38;5;241m*\u001B[39mx)\n",
      "File \u001B[0;32m~/Projects/radiant/radiant/function.py:152\u001B[0m, in \u001B[0;36mWendland.grad\u001B[0;34m(self, w, *x)\u001B[0m\n\u001B[1;32m    151\u001B[0m \u001B[38;5;28;01mdef\u001B[39;00m \u001B[38;5;21mgrad\u001B[39m(\u001B[38;5;28mself\u001B[39m, \u001B[38;5;241m*\u001B[39mx, w\u001B[38;5;241m=\u001B[39m\u001B[38;5;28;01mNone\u001B[39;00m):\n\u001B[0;32m--> 152\u001B[0m     \u001B[38;5;28;01mreturn\u001B[39;00m np\u001B[38;5;241m.\u001B[39marray([\n\u001B[1;32m    153\u001B[0m         \u001B[38;5;28mself\u001B[39m\u001B[38;5;241m.\u001B[39m\u001B[38;5;21m__call__\u001B[39m(\u001B[38;5;241m*\u001B[39mx, w\u001B[38;5;241m=\u001B[39mw, m\u001B[38;5;241m=\u001B[39mi) \u001B[38;5;28;01mfor\u001B[39;00m i \u001B[38;5;129;01min\u001B[39;00m \u001B[38;5;28mrange\u001B[39m(\u001B[38;5;28mself\u001B[39m\u001B[38;5;241m.\u001B[39md)\n\u001B[1;32m    154\u001B[0m     ])\n",
      "File \u001B[0;32m~/Projects/radiant/radiant/function.py:153\u001B[0m, in \u001B[0;36m<listcomp>\u001B[0;34m(.0)\u001B[0m\n\u001B[1;32m    151\u001B[0m \u001B[38;5;28;01mdef\u001B[39;00m \u001B[38;5;21mgrad\u001B[39m(\u001B[38;5;28mself\u001B[39m, \u001B[38;5;241m*\u001B[39mx, w\u001B[38;5;241m=\u001B[39m\u001B[38;5;28;01mNone\u001B[39;00m):\n\u001B[1;32m    152\u001B[0m     \u001B[38;5;28;01mreturn\u001B[39;00m np\u001B[38;5;241m.\u001B[39marray([\n\u001B[0;32m--> 153\u001B[0m         \u001B[38;5;28;43mself\u001B[39;49m\u001B[38;5;241;43m.\u001B[39;49m\u001B[38;5;21;43m__call__\u001B[39;49m\u001B[43m(\u001B[49m\u001B[38;5;241;43m*\u001B[39;49m\u001B[43mx\u001B[49m\u001B[43m,\u001B[49m\u001B[43m \u001B[49m\u001B[43mw\u001B[49m\u001B[38;5;241;43m=\u001B[39;49m\u001B[43mw\u001B[49m\u001B[43m,\u001B[49m\u001B[43m \u001B[49m\u001B[43mm\u001B[49m\u001B[38;5;241;43m=\u001B[39;49m\u001B[43mi\u001B[49m\u001B[43m)\u001B[49m \u001B[38;5;28;01mfor\u001B[39;00m i \u001B[38;5;129;01min\u001B[39;00m \u001B[38;5;28mrange\u001B[39m(\u001B[38;5;28mself\u001B[39m\u001B[38;5;241m.\u001B[39md)\n\u001B[1;32m    154\u001B[0m     ])\n",
      "File \u001B[0;32m~/Projects/radiant/radiant/function.py:102\u001B[0m, in \u001B[0;36mWendland.__call__\u001B[0;34m(self, w, m, *x)\u001B[0m\n\u001B[1;32m    100\u001B[0m \u001B[38;5;28;01melif\u001B[39;00m m \u001B[38;5;129;01min\u001B[39;00m \u001B[38;5;28mself\u001B[39m\u001B[38;5;241m.\u001B[39mallowed_first_derivatives:\n\u001B[1;32m    101\u001B[0m     deriv_coefs \u001B[38;5;241m=\u001B[39m polynomial\u001B[38;5;241m.\u001B[39mpolyder(\u001B[38;5;28mself\u001B[39m\u001B[38;5;241m.\u001B[39mcoefs)\n\u001B[0;32m--> 102\u001B[0m     deriv_scale \u001B[38;5;241m=\u001B[39m \u001B[43mepsdiv\u001B[49m\u001B[43m(\u001B[49m\u001B[43mdiffs\u001B[49m\u001B[43m[\u001B[49m\u001B[43mm\u001B[49m\u001B[43m]\u001B[49m\u001B[43m,\u001B[49m\u001B[43m \u001B[49m\u001B[38;5;28;43mself\u001B[39;49m\u001B[38;5;241;43m.\u001B[39;49m\u001B[43mdelta\u001B[49m\u001B[43m \u001B[49m\u001B[38;5;241;43m*\u001B[39;49m\u001B[43m \u001B[49m\u001B[43mnormed_diff\u001B[49m\u001B[43m)\u001B[49m\n\u001B[1;32m    103\u001B[0m     unsupported \u001B[38;5;241m=\u001B[39m deriv_scale \u001B[38;5;241m*\u001B[39m polynomial\u001B[38;5;241m.\u001B[39mpolyval(r, deriv_coefs)\n\u001B[1;32m    104\u001B[0m \u001B[38;5;28;01melif\u001B[39;00m m \u001B[38;5;129;01min\u001B[39;00m \u001B[38;5;28mself\u001B[39m\u001B[38;5;241m.\u001B[39mallowed_second_derivatives:\n",
      "\u001B[0;31mKeyboardInterrupt\u001B[0m: "
     ]
    }
   ],
   "source": [
    "# Parameters\n",
    "d = 2\n",
    "k = 2\n",
    "delta = 0.5\n",
    "Ns = np.arange(3, 15, 1, dtype=int)\n",
    "\n",
    "# Computed Parameters\n",
    "ranges = ((a, b),) * d\n",
    "\n",
    "idx_funcs = [\n",
    "    lambda cs: np.all([np.logical_and(c != a, c != b) for c in cs], axis=0),\n",
    "    lambda cs: np.any([np.logical_or(c == a, c == b) for c in cs], axis=0),\n",
    "]\n",
    "operators = [\n",
    "    lambda func: lambda *x: - func.laplacian(*x),\n",
    "    lambda func: lambda *x: func(*x),\n",
    "]\n",
    "\n",
    "# Integration\n",
    "error_integrator = rad.integrate.QuadIntegrator(ranges)\n",
    "\n",
    "# Data collection\n",
    "results = np.zeros((np.size(Ns), 3))\n",
    "\n",
    "for i, N in enumerate(Ns):\n",
    "    xc = rad.gridn(ranges, N, flat=True)\n",
    "\n",
    "    # Solve for approximate solution\n",
    "    phi = rad.Wendland(d, k, delta, xc)\n",
    "    solver = rad.solve.CollocationSolver(phi, operators, idx_funcs)\n",
    "    approx = solver.solve(f, g)\n",
    "    error = rad.error(exact, approx, error_integrator)\n",
    "    cond = solver.cond()\n",
    "    bw = np.max(solver.bandwidth())\n",
    "    \n",
    "    results[i,0] = error \n",
    "    results[i, 1] = cond\n",
    "    results[i, 2] = bw\n",
    "    \n",
    "    print(\"N:\", N)\n",
    "    print(\"  L2 Relative Error:\", error)\n",
    "    print(\"  Condition Number:\", cond)\n",
    "    print(\"  Bandwidth:\", bw)"
   ],
   "metadata": {
    "collapsed": false,
    "ExecuteTime": {
     "end_time": "2024-03-15T09:58:49.719049585Z",
     "start_time": "2024-03-15T09:57:18.512407045Z"
    }
   },
   "id": "2ffd7d4b4af23bf6"
  },
  {
   "cell_type": "code",
   "execution_count": null,
   "outputs": [],
   "source": [
    "fig, axs = plt.subplots(1, 3, figsize=(12,3))\n",
    "\n",
    "axs[0].set_xlabel(r\"$N$\")\n",
    "axs[0].set_ylabel(r\"$\\| u - s\\|_{L^{2}}$\")\n",
    "axs[0].set_yscale('log')\n",
    "axs[0].plot(Ns ** d, results[:, 0], 'o-')\n",
    "\n",
    "axs[1].set_xlabel(r\"$N$\")\n",
    "axs[1].set_ylabel(r\"$\\kappa_{2}\\left(A_{L}\\right)$\")\n",
    "axs[1].set_yscale('log')\n",
    "axs[1].plot(Ns ** d, results[:, 1], 'o-')\n",
    "\n",
    "axs[2].set_xlabel(r\"$N$\")\n",
    "axs[2].set_ylabel(r\"$A_{L}$ Bandwidth\")\n",
    "axs[2].plot(Ns ** d, results[:, 2], 'o-')\n",
    "\n",
    "plt.subplots_adjust(wspace=0.5)\n",
    "plt.savefig(\"figures/c3-kansa-poisson-ns.pdf\", bbox_inches='tight')"
   ],
   "metadata": {
    "collapsed": false,
    "ExecuteTime": {
     "start_time": "2024-03-15T09:58:49.712536703Z"
    }
   },
   "id": "2230448d3cb39233"
  },
  {
   "cell_type": "code",
   "execution_count": null,
   "outputs": [],
   "source": [
    "np.shape(results)"
   ],
   "metadata": {
    "collapsed": false,
    "ExecuteTime": {
     "start_time": "2024-03-15T09:58:49.712736748Z"
    }
   },
   "id": "e1b5daac7e6c2552"
  },
  {
   "cell_type": "code",
   "execution_count": null,
   "outputs": [],
   "source": [],
   "metadata": {
    "collapsed": false,
    "ExecuteTime": {
     "start_time": "2024-03-15T09:58:49.712842385Z"
    }
   },
   "id": "82ec0eb6bfd0ac84"
  }
 ],
 "metadata": {
  "kernelspec": {
   "display_name": "Python 3",
   "language": "python",
   "name": "python3"
  },
  "language_info": {
   "codemirror_mode": {
    "name": "ipython",
    "version": 2
   },
   "file_extension": ".py",
   "mimetype": "text/x-python",
   "name": "python",
   "nbconvert_exporter": "python",
   "pygments_lexer": "ipython2",
   "version": "2.7.6"
  }
 },
 "nbformat": 4,
 "nbformat_minor": 5
}

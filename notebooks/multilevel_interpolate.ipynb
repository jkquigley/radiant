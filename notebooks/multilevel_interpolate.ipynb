{
 "cells": [
  {
   "cell_type": "code",
   "execution_count": 1,
   "outputs": [],
   "source": [
    "#######################\n",
    "# Interpolates some f #\n",
    "#######################\n",
    "import radiant as rad\n",
    "import cupy as cp\n",
    "from IPython.display import HTML\n",
    "\n",
    "\n",
    "# Problem Parameters\n",
    "a = 0\n",
    "b = 1\n",
    "\n",
    "\n",
    "def f(x):\n",
    "    return cp.cos((2 * cp.pi * x / (b - a)) ** 2) * 2 * cp.pi * x / (b - a)"
   ],
   "metadata": {
    "collapsed": false,
    "ExecuteTime": {
     "end_time": "2024-02-02T02:59:34.979889080Z",
     "start_time": "2024-02-02T02:59:34.247338922Z"
    }
   },
   "id": "eb562929bb1bb3b"
  },
  {
   "cell_type": "code",
   "execution_count": 2,
   "outputs": [
    {
     "ename": "TypeError",
     "evalue": "Implicit conversion to a NumPy array is not allowed. Please use `.get()` to construct a NumPy array explicitly.",
     "output_type": "error",
     "traceback": [
      "\u001B[0;31m---------------------------------------------------------------------------\u001B[0m",
      "\u001B[0;31mTypeError\u001B[0m                                 Traceback (most recent call last)",
      "Cell \u001B[0;32mIn[2], line 12\u001B[0m\n\u001B[1;32m     10\u001B[0m phi \u001B[38;5;241m=\u001B[39m rad\u001B[38;5;241m.\u001B[39mWendland(d, k)\n\u001B[1;32m     11\u001B[0m thinning \u001B[38;5;241m=\u001B[39m \u001B[38;5;241m2.\u001B[39m \u001B[38;5;241m*\u001B[39m\u001B[38;5;241m*\u001B[39m cp\u001B[38;5;241m.\u001B[39marange(\u001B[38;5;241m0\u001B[39m, inner_levels)\n\u001B[0;32m---> 12\u001B[0m centres \u001B[38;5;241m=\u001B[39m [cp\u001B[38;5;241m.\u001B[39marange(a, b \u001B[38;5;241m+\u001B[39m inc, inc) \u001B[38;5;28;01mfor\u001B[39;00m inc \u001B[38;5;129;01min\u001B[39;00m (b \u001B[38;5;241m-\u001B[39m a) \u001B[38;5;241m/\u001B[39m (thinning \u001B[38;5;241m*\u001B[39m start_ncentres)]\n\u001B[1;32m     13\u001B[0m delta \u001B[38;5;241m=\u001B[39m start_delta \u001B[38;5;241m/\u001B[39m thinning\n\u001B[1;32m     15\u001B[0m \u001B[38;5;66;03m# Integration\u001B[39;00m\n",
      "Cell \u001B[0;32mIn[2], line 12\u001B[0m, in \u001B[0;36m<listcomp>\u001B[0;34m(.0)\u001B[0m\n\u001B[1;32m     10\u001B[0m phi \u001B[38;5;241m=\u001B[39m rad\u001B[38;5;241m.\u001B[39mWendland(d, k)\n\u001B[1;32m     11\u001B[0m thinning \u001B[38;5;241m=\u001B[39m \u001B[38;5;241m2.\u001B[39m \u001B[38;5;241m*\u001B[39m\u001B[38;5;241m*\u001B[39m cp\u001B[38;5;241m.\u001B[39marange(\u001B[38;5;241m0\u001B[39m, inner_levels)\n\u001B[0;32m---> 12\u001B[0m centres \u001B[38;5;241m=\u001B[39m [\u001B[43mcp\u001B[49m\u001B[38;5;241;43m.\u001B[39;49m\u001B[43marange\u001B[49m\u001B[43m(\u001B[49m\u001B[43ma\u001B[49m\u001B[43m,\u001B[49m\u001B[43m \u001B[49m\u001B[43mb\u001B[49m\u001B[43m \u001B[49m\u001B[38;5;241;43m+\u001B[39;49m\u001B[43m \u001B[49m\u001B[43minc\u001B[49m\u001B[43m,\u001B[49m\u001B[43m \u001B[49m\u001B[43minc\u001B[49m\u001B[43m)\u001B[49m \u001B[38;5;28;01mfor\u001B[39;00m inc \u001B[38;5;129;01min\u001B[39;00m (b \u001B[38;5;241m-\u001B[39m a) \u001B[38;5;241m/\u001B[39m (thinning \u001B[38;5;241m*\u001B[39m start_ncentres)]\n\u001B[1;32m     13\u001B[0m delta \u001B[38;5;241m=\u001B[39m start_delta \u001B[38;5;241m/\u001B[39m thinning\n\u001B[1;32m     15\u001B[0m \u001B[38;5;66;03m# Integration\u001B[39;00m\n",
      "File \u001B[0;32m~/Projects/radiant/venv/lib/python3.10/site-packages/cupy/_creation/ranges.py:60\u001B[0m, in \u001B[0;36marange\u001B[0;34m(start, stop, step, dtype)\u001B[0m\n\u001B[1;32m     58\u001B[0m ret \u001B[38;5;241m=\u001B[39m cupy\u001B[38;5;241m.\u001B[39mempty((size,), dtype\u001B[38;5;241m=\u001B[39mdtype)\n\u001B[1;32m     59\u001B[0m typ \u001B[38;5;241m=\u001B[39m numpy\u001B[38;5;241m.\u001B[39mdtype(dtype)\u001B[38;5;241m.\u001B[39mtype\n\u001B[0;32m---> 60\u001B[0m _arange_ufunc(typ(start), \u001B[43mtyp\u001B[49m\u001B[43m(\u001B[49m\u001B[43mstep\u001B[49m\u001B[43m)\u001B[49m, ret, dtype\u001B[38;5;241m=\u001B[39mdtype)\n\u001B[1;32m     61\u001B[0m \u001B[38;5;28;01mreturn\u001B[39;00m ret\n",
      "File \u001B[0;32mcupy/_core/core.pyx:1475\u001B[0m, in \u001B[0;36mcupy._core.core._ndarray_base.__array__\u001B[0;34m()\u001B[0m\n",
      "\u001B[0;31mTypeError\u001B[0m: Implicit conversion to a NumPy array is not allowed. Please use `.get()` to construct a NumPy array explicitly."
     ]
    }
   ],
   "source": [
    "# Parameters\n",
    "d = 1\n",
    "k = 1\n",
    "inner_levels = 10\n",
    "outer_levels = 5\n",
    "start_ncentres = 100\n",
    "start_delta = 0.3\n",
    "\n",
    "# Computed parameters\n",
    "phi = rad.Wendland(d, k)\n",
    "thinning = 2. ** cp.arange(0, inner_levels)\n",
    "centres = [cp.arange(a, b + inc, inc) for inc in (b - a) / (thinning * start_ncentres)]\n",
    "delta = start_delta / thinning\n",
    "\n",
    "# Integration\n",
    "error_integrator = rad.integrate.LeggaussIntegrator(a, b, 500)\n",
    "\n",
    "# Solve for approximate solution\n",
    "solver = rad.solve.MultilevelSolver(phi, centres, delta, rad.solve.InterpolationSolver, outer=outer_levels)\n",
    "approx = solver.solve(f)\n",
    "error = rad.error(f, approx, error_integrator)\n",
    "\n",
    "print(\"L2 Relative Error:\", error)\n",
    "# print(\"Condition Numbers:\", solver.cond())"
   ],
   "metadata": {
    "collapsed": false,
    "ExecuteTime": {
     "end_time": "2024-02-02T02:59:35.343592224Z",
     "start_time": "2024-02-02T02:59:34.992152341Z"
    }
   },
   "id": "2ffd7d4b4af23bf6"
  },
  {
   "cell_type": "code",
   "execution_count": null,
   "outputs": [],
   "source": [
    "rad.plot.many(a, b, f, approx, n=5000, labels=[\"Exact\", \"Approx\"])"
   ],
   "metadata": {
    "collapsed": false,
    "ExecuteTime": {
     "end_time": "2024-02-02T02:59:35.353835027Z",
     "start_time": "2024-02-02T02:59:35.345922379Z"
    }
   },
   "id": "2230448d3cb39233"
  },
  {
   "cell_type": "code",
   "execution_count": null,
   "outputs": [],
   "source": [
    "anim = rad.animate.ml_animate(f, approx, a, b)\n",
    "HTML(anim.to_jshtml())"
   ],
   "metadata": {
    "collapsed": false,
    "ExecuteTime": {
     "start_time": "2024-02-02T02:59:35.348239652Z"
    }
   },
   "id": "8388cdbbbc60f008"
  },
  {
   "cell_type": "code",
   "execution_count": null,
   "outputs": [],
   "source": [
    "rad.plot.thinning(centres, delta, figsize=(15, 2))"
   ],
   "metadata": {
    "collapsed": false,
    "ExecuteTime": {
     "start_time": "2024-02-02T02:59:35.349553440Z"
    }
   },
   "id": "fd342a649185ef42"
  }
 ],
 "metadata": {
  "kernelspec": {
   "display_name": "Python 3",
   "language": "python",
   "name": "python3"
  },
  "language_info": {
   "codemirror_mode": {
    "name": "ipython",
    "version": 2
   },
   "file_extension": ".py",
   "mimetype": "text/x-python",
   "name": "python",
   "nbconvert_exporter": "python",
   "pygments_lexer": "ipython2",
   "version": "2.7.6"
  }
 },
 "nbformat": 4,
 "nbformat_minor": 5
}

{
 "cells": [
  {
   "cell_type": "code",
   "execution_count": null,
   "outputs": [],
   "source": [
    "#######################\n",
    "# Interpolates some f #\n",
    "#######################\n",
    "import radiant as rad\n",
    "import numpy as np\n",
    "\n",
    "\n",
    "# Problem Parameters\n",
    "a = 0\n",
    "b = 1\n",
    "\n",
    "\n",
    "def f(x):\n",
    "    return np.cos((2 * np.pi * x / (b - a)) ** 2) * 2 * np.pi * x / (b - a)\n"
   ],
   "metadata": {
    "collapsed": false
   },
   "id": "eb562929bb1bb3b"
  },
  {
   "cell_type": "code",
   "execution_count": null,
   "outputs": [],
   "source": [
    "# Parameters\n",
    "d = 1\n",
    "k = 1\n",
    "phi = rad.phi_factory(d, k)\n",
    "delta = 0.5\n",
    "N = 500\n",
    "centres = np.linspace(a, b, N)\n",
    "nlevels = 5\n",
    "\n",
    "# Solve for approximate solution\n",
    "approx, = rad.multilevel.solve(f, centres, delta, phi, nlevels, rad.interpolate.solve)\n",
    "error = rad.error(f, approx, a, b)\n",
    "\n",
    "print(\"L2 Relative Error:\", error)"
   ],
   "metadata": {
    "collapsed": false
   },
   "id": "2ffd7d4b4af23bf6"
  },
  {
   "cell_type": "code",
   "execution_count": null,
   "outputs": [],
   "source": [
    "rad.plot.overlay(f, approx, a, b, 1000)"
   ],
   "metadata": {
    "collapsed": false
   },
   "id": "2230448d3cb39233"
  },
  {
   "cell_type": "code",
   "execution_count": null,
   "outputs": [],
   "source": [
    "from IPython.display import HTML\n",
    "\n",
    "\n",
    "anim = rad.animate.ml_animate(f, approx, a, b)\n",
    "HTML(anim.to_jshtml())"
   ],
   "metadata": {
    "collapsed": false
   },
   "id": "89dec1a504cda31"
  },
  {
   "cell_type": "code",
   "execution_count": null,
   "outputs": [],
   "source": [],
   "metadata": {
    "collapsed": false
   },
   "id": "fd342a649185ef42"
  }
 ],
 "metadata": {
  "kernelspec": {
   "display_name": "Python 3",
   "language": "python",
   "name": "python3"
  },
  "language_info": {
   "codemirror_mode": {
    "name": "ipython",
    "version": 2
   },
   "file_extension": ".py",
   "mimetype": "text/x-python",
   "name": "python",
   "nbconvert_exporter": "python",
   "pygments_lexer": "ipython2",
   "version": "2.7.6"
  }
 },
 "nbformat": 4,
 "nbformat_minor": 5
}

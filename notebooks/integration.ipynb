{
 "cells": [
  {
   "cell_type": "code",
   "execution_count": 25,
   "id": "def37cf4a3690d45",
   "metadata": {
    "collapsed": true,
    "ExecuteTime": {
     "end_time": "2024-02-13T12:02:07.628032371Z",
     "start_time": "2024-02-13T12:02:07.581255586Z"
    }
   },
   "outputs": [],
   "source": [
    "import radiant as rad\n",
    "import numpy as np"
   ]
  },
  {
   "cell_type": "code",
   "execution_count": 26,
   "outputs": [],
   "source": [
    "a = -0.5\n",
    "b = 0.5\n",
    "d = 2\n",
    "\n",
    "ranges = ((a, b),) * d\n",
    "integrator = rad.integrate.MeanIntegrator(ranges, 1500)\n",
    "# integrator = rad.integrate.QuadIntegrator(\n",
    "#     ranges,\n",
    "#     epsabs=1e-3,\n",
    "#     epsrel=1e-3,\n",
    "# )"
   ],
   "metadata": {
    "collapsed": false,
    "ExecuteTime": {
     "end_time": "2024-02-13T12:02:07.628256219Z",
     "start_time": "2024-02-13T12:02:07.627809056Z"
    }
   },
   "id": "initial_id"
  },
  {
   "cell_type": "code",
   "execution_count": 27,
   "outputs": [
    {
     "name": "stdout",
     "output_type": "stream",
     "text": [
      "0.16688903713586833\n"
     ]
    }
   ],
   "source": [
    "print(integrator(lambda *x: np.sum(np.asarray(x) ** 2, axis=0)))"
   ],
   "metadata": {
    "collapsed": false,
    "ExecuteTime": {
     "end_time": "2024-02-13T12:02:07.655003364Z",
     "start_time": "2024-02-13T12:02:07.627999700Z"
    }
   },
   "id": "ce861744f88609f4"
  }
 ],
 "metadata": {
  "kernelspec": {
   "display_name": "Python 3",
   "language": "python",
   "name": "python3"
  },
  "language_info": {
   "codemirror_mode": {
    "name": "ipython",
    "version": 2
   },
   "file_extension": ".py",
   "mimetype": "text/x-python",
   "name": "python",
   "nbconvert_exporter": "python",
   "pygments_lexer": "ipython2",
   "version": "2.7.6"
  }
 },
 "nbformat": 4,
 "nbformat_minor": 5
}

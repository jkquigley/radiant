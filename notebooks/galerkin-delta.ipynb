{
 "cells": [
  {
   "cell_type": "code",
   "execution_count": 13,
   "outputs": [],
   "source": [
    "import radiant as rad\n",
    "import numpy as np\n",
    "import matplotlib.pyplot as plt\n",
    "\n",
    "\n",
    "# Problem Parameters\n",
    "a = 0.\n",
    "b = 1.\n",
    "\n",
    "\n",
    "def exact(*x):\n",
    "    return np.prod(np.cos(np.asarray(x) * 2 * np.pi / (b - a)), axis=0)\n",
    "\n",
    "\n",
    "def f(*x):\n",
    "    return (len(x) * (2 * np.pi / (b - a)) ** 2 + 1) * exact(*x)"
   ],
   "metadata": {
    "collapsed": false,
    "ExecuteTime": {
     "end_time": "2024-03-15T11:41:24.072498694Z",
     "start_time": "2024-03-15T11:41:24.029375991Z"
    }
   },
   "id": "eb562929bb1bb3b"
  },
  {
   "cell_type": "code",
   "execution_count": null,
   "outputs": [
    {
     "name": "stdout",
     "output_type": "stream",
     "text": [
      "Delta: 0.2\n",
      "  L2 Relative Error: 0.0796543633990602\n",
      "  Condition Number: 57.05282686910574\n",
      "  Bandwidth: 31\n",
      "Delta: 0.30000000000000004\n",
      "  L2 Relative Error: 0.052796258856341045\n",
      "  Condition Number: 766.2646810886297\n",
      "  Bandwidth: 52\n",
      "Delta: 0.4000000000000001\n",
      "  L2 Relative Error: 0.016786897157894\n",
      "  Condition Number: 1213.2758366036815\n",
      "  Bandwidth: 71\n",
      "Delta: 0.5000000000000001\n",
      "  L2 Relative Error: 0.017053985487117115\n",
      "  Condition Number: 16176.50550792836\n",
      "  Bandwidth: 84\n",
      "Delta: 0.6000000000000001\n",
      "  L2 Relative Error: 0.017470347963702122\n",
      "  Condition Number: 117277.28510865156\n",
      "  Bandwidth: 95\n",
      "Delta: 0.7000000000000002\n",
      "  L2 Relative Error: 0.017578189182666796\n",
      "  Condition Number: 745433.939389908\n",
      "  Bandwidth: 98\n",
      "Delta: 0.8000000000000003\n",
      "  L2 Relative Error: 0.017581957015986773\n",
      "  Condition Number: 3176997.0706298114\n",
      "  Bandwidth: 99\n",
      "Delta: 0.9000000000000001\n",
      "  L2 Relative Error: 0.017564875189891166\n",
      "  Condition Number: 11701030.586431105\n",
      "  Bandwidth: 99\n",
      "Delta: 1.0000000000000002\n",
      "  L2 Relative Error: 0.0175432536885308\n",
      "  Condition Number: 36143438.040604\n",
      "  Bandwidth: 99\n",
      "Delta: 1.1000000000000003\n",
      "  L2 Relative Error: 0.01752978152074969\n",
      "  Condition Number: 96401753.388758\n",
      "  Bandwidth: 99\n",
      "Delta: 1.2000000000000004\n",
      "  L2 Relative Error: 0.017517300196973562\n",
      "  Condition Number: 232272909.17870277\n",
      "  Bandwidth: 99\n",
      "Delta: 1.3000000000000003\n",
      "  L2 Relative Error: 0.017505790575738128\n",
      "  Condition Number: 504600957.89078355\n",
      "  Bandwidth: 99\n",
      "Delta: 1.4000000000000004\n",
      "  L2 Relative Error: 0.017499042667383117\n",
      "  Condition Number: 1009727947.6737121\n",
      "  Bandwidth: 99\n",
      "Delta: 1.5000000000000004\n",
      "  L2 Relative Error: 0.017496670453119683\n",
      "  Condition Number: 1872140828.845074\n",
      "  Bandwidth: 99\n"
     ]
    }
   ],
   "source": [
    "# Parameters\n",
    "d = 2\n",
    "k = 2\n",
    "deltas = np.arange(0.2, 2.1, 0.1)\n",
    "N = 10\n",
    "\n",
    "# Computed Parameters\n",
    "ranges = ((a, b),) * d\n",
    "xc = rad.gridn(ranges, N, flat=True)\n",
    "\n",
    "# Integration\n",
    "integrator = rad.integrate.MeanIntegrator(ranges, 250)\n",
    "error_integrator = rad.integrate.QuadIntegrator(ranges)\n",
    "\n",
    "# Data collection\n",
    "results = np.zeros((np.size(deltas), 3))\n",
    "\n",
    "for i, delta in enumerate(deltas):\n",
    "    # Solve for approximate solution\n",
    "    phi = rad.Wendland(d, k, delta, xc)\n",
    "    solver = rad.solve.GalerkinSolver(phi, integrator, 'helmholtz')\n",
    "    approx = solver.solve(f)\n",
    "    error = rad.error(exact, approx, error_integrator, relative=False)\n",
    "    cond = solver.cond()\n",
    "    bw = np.max(solver.bandwidth())\n",
    "    \n",
    "    results[i,0] = error\n",
    "    results[i, 1] = cond\n",
    "    results[i, 2] = bw\n",
    "    \n",
    "    print(\"Delta:\", delta)\n",
    "    print(\"  L2 Relative Error:\", error)\n",
    "    print(\"  Condition Number:\", cond)\n",
    "    print(\"  Bandwidth:\", bw)"
   ],
   "metadata": {
    "collapsed": false,
    "is_executing": true,
    "ExecuteTime": {
     "start_time": "2024-03-15T11:41:24.072228523Z"
    }
   },
   "id": "2ffd7d4b4af23bf6"
  },
  {
   "cell_type": "code",
   "execution_count": null,
   "outputs": [],
   "source": [
    "fig, axs = plt.subplots(1, 3, figsize=(12,3))\n",
    "\n",
    "axs[0].set_xlabel(r\"$\\delta$\")\n",
    "axs[0].set_ylabel(r\"$\\| u - s\\|_{L^{2}}$\")\n",
    "axs[0].set_yscale('log')\n",
    "axs[0].plot(deltas, results[:, 0], 'o-')\n",
    "\n",
    "axs[1].set_xlabel(r\"$\\delta$\")\n",
    "axs[1].set_ylabel(r\"$\\kappa_{2}\\left(A_{L}\\right)$\")\n",
    "axs[1].set_yscale('log')\n",
    "axs[1].plot(deltas, results[:, 1], 'o-')\n",
    "\n",
    "axs[2].set_xlabel(r\"$\\delta$\")\n",
    "axs[2].set_ylabel(r\"$A_{L}$ Bandwidth\")\n",
    "axs[2].plot(deltas, results[:, 2], 'o-')\n",
    "\n",
    "plt.subplots_adjust(wspace=0.5)\n",
    "plt.savefig(\"figures/c4-galerkin-helmholtz-deltas.pdf\", bbox_inches='tight')"
   ],
   "metadata": {
    "collapsed": false,
    "is_executing": true
   },
   "id": "2230448d3cb39233"
  },
  {
   "cell_type": "code",
   "execution_count": null,
   "outputs": [],
   "source": [],
   "metadata": {
    "collapsed": false,
    "is_executing": true
   },
   "id": "8f54617d9264b6eb"
  }
 ],
 "metadata": {
  "kernelspec": {
   "display_name": "Python 3",
   "language": "python",
   "name": "python3"
  },
  "language_info": {
   "codemirror_mode": {
    "name": "ipython",
    "version": 2
   },
   "file_extension": ".py",
   "mimetype": "text/x-python",
   "name": "python",
   "nbconvert_exporter": "python",
   "pygments_lexer": "ipython2",
   "version": "2.7.6"
  }
 },
 "nbformat": 4,
 "nbformat_minor": 5
}

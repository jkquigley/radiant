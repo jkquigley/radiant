{
 "cells": [
  {
   "cell_type": "code",
   "execution_count": 94,
   "id": "initial_id",
   "metadata": {
    "collapsed": true,
    "ExecuteTime": {
     "end_time": "2024-03-01T15:47:59.095506889Z",
     "start_time": "2024-03-01T15:47:59.052609073Z"
    }
   },
   "outputs": [],
   "source": [
    "import radiant as rad\n",
    "import numpy as np\n",
    "from numpy.polynomial import polynomial\n",
    "import matplotlib.pyplot as plt\n",
    "from mpl_toolkits.mplot3d import Axes3D\n",
    "from math import comb"
   ]
  },
  {
   "cell_type": "code",
   "execution_count": 95,
   "outputs": [],
   "source": [
    "def norm(*x):\n",
    "    return np.sqrt((np.sum(i ** 2, axis=0) for i in x))\n",
    "\n",
    "\n",
    "def imq(r, delta=1.):\n",
    "    return 1 / np.sqrt(1 + (r / delta) ** 2)\n",
    "\n",
    "\n",
    "def gaussian(r, delta=1.):\n",
    "    return np.exp(- (r / delta) ** 2)\n",
    "\n",
    "\n",
    "def tps(r, delta=1.):\n",
    "    return (r / delta) ** 2 * np.log(r / delta)\n",
    "\n",
    "\n",
    "def wendland(r, delta=1., d=1, k=1):\n",
    "    l = d // 2 + k + 1\n",
    "\n",
    "    if k == 0:\n",
    "        coefs = [\n",
    "            1,\n",
    "        ]\n",
    "    elif k == 1:\n",
    "        coefs = [\n",
    "            1,\n",
    "            l + 1,\n",
    "        ]\n",
    "    elif k == 2:\n",
    "        coefs = [\n",
    "            3,\n",
    "            3 * l + 6,\n",
    "            l ** 2 + 4 * l + 3,\n",
    "        ]\n",
    "    elif k == 3:\n",
    "        coefs = [\n",
    "            15,\n",
    "            15 * l + 45,\n",
    "            6 * l ** 2 + 36 * l + 45,\n",
    "            l ** 3 + 9 ** 2 + 23 * l + 15,\n",
    "        ]\n",
    "    else:\n",
    "        raise ValueError\n",
    "\n",
    "    prefix = [(-1) ** i * comb(l + k, i) for i in range(l + k + 1)]\n",
    "    poly = polynomial.polymul(prefix, coefs)\n",
    "\n",
    "    return np.where(1 - r >= 0, polynomial.polyval(r / delta, poly), 0)"
   ],
   "metadata": {
    "collapsed": false,
    "ExecuteTime": {
     "end_time": "2024-03-01T15:47:59.095712287Z",
     "start_time": "2024-03-01T15:47:59.095329444Z"
    }
   },
   "id": "bcd11568895b3cba"
  },
  {
   "cell_type": "code",
   "execution_count": 96,
   "outputs": [],
   "source": [
    "x = np.linspace(-1., 1., 100)\n",
    "r = np.abs(x)\n",
    "\n",
    "plt.margins(x=0.)\n",
    "plt.plot(x, imq(r))\n",
    "plt.savefig(\"figures/imq-1d.pdf\")\n",
    "plt.close()\n",
    "\n",
    "plt.margins(x=0.)\n",
    "plt.plot(x, gaussian(r))\n",
    "plt.savefig(\"figures/gaussian-1d.pdf\")\n",
    "plt.close()\n",
    "\n",
    "plt.margins(x=0.)\n",
    "plt.plot(x, tps(r))\n",
    "plt.savefig(\"figures/tps-1d.pdf\")\n",
    "plt.close()\n",
    "\n",
    "plt.margins(x=0.)\n",
    "plt.plot(x, wendland(r, d=3, k=1))\n",
    "plt.savefig(\"figures/wendland31-1d.pdf\")\n",
    "plt.close()"
   ],
   "metadata": {
    "collapsed": false,
    "ExecuteTime": {
     "end_time": "2024-03-01T15:47:59.360017432Z",
     "start_time": "2024-03-01T15:47:59.095611194Z"
    }
   },
   "id": "bfbf922a3380acb1"
  },
  {
   "cell_type": "code",
   "execution_count": 97,
   "outputs": [],
   "source": [
    "x, y = np.meshgrid(np.linspace(-1., 1., 100), np.linspace(-1., 1., 100))\n",
    "r = np.sqrt(x ** 2 + y ** 2)\n",
    "ticks = [-1.0, -0.5, 0.0, 0.5, 1.0]\n",
    "\n",
    "ax = plt.subplot(111, projection='3d')\n",
    "ax.margins(x=0., y=0.)\n",
    "ax.plot_surface(x, y, imq(r), cmap='spring')\n",
    "ax.set_xticks(ticks)\n",
    "ax.set_yticks(ticks)\n",
    "plt.savefig(\"figures/imq-2d.pdf\")\n",
    "plt.close()\n",
    "\n",
    "ax = plt.subplot(111, projection='3d')\n",
    "ax.margins(x=0., y=0.)\n",
    "ax.plot_surface(x, y, gaussian(r), cmap='spring')\n",
    "ax.set_xticks(ticks)\n",
    "ax.set_yticks(ticks)\n",
    "plt.savefig(\"figures/gaussian-2d.pdf\")\n",
    "plt.close()\n",
    "\n",
    "ax = plt.subplot(111, projection='3d')\n",
    "ax.margins(x=0., y=0.)\n",
    "ax.plot_surface(x, y, tps(r), cmap='spring')\n",
    "ax.set_xticks(ticks)\n",
    "ax.set_yticks(ticks)\n",
    "plt.savefig(\"figures/tps-2d.pdf\")\n",
    "plt.close()\n",
    "\n",
    "ax = plt.subplot(111, projection='3d')\n",
    "ax.margins(x=0., y=0.)\n",
    "ax.plot_surface(x, y, wendland(r, d=3, k=1), cmap='spring')\n",
    "ax.set_xticks(ticks)\n",
    "ax.set_yticks(ticks)\n",
    "plt.savefig(\"figures/wendland31-2d.pdf\")\n",
    "plt.close()"
   ],
   "metadata": {
    "collapsed": false,
    "ExecuteTime": {
     "end_time": "2024-03-01T15:48:01.844657741Z",
     "start_time": "2024-03-01T15:47:59.380519627Z"
    }
   },
   "id": "99bf17d58db52179"
  }
 ],
 "metadata": {
  "kernelspec": {
   "display_name": "Python 3",
   "language": "python",
   "name": "python3"
  },
  "language_info": {
   "codemirror_mode": {
    "name": "ipython",
    "version": 2
   },
   "file_extension": ".py",
   "mimetype": "text/x-python",
   "name": "python",
   "nbconvert_exporter": "python",
   "pygments_lexer": "ipython2",
   "version": "2.7.6"
  }
 },
 "nbformat": 4,
 "nbformat_minor": 5
}

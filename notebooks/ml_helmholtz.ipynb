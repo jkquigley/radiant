{
 "cells": [
  {
   "cell_type": "code",
   "execution_count": 1,
   "outputs": [],
   "source": [
    "#######################\n",
    "# Interpolates some f #\n",
    "#######################\n",
    "import radiant as rad\n",
    "import numpy as np\n",
    "\n",
    "\n",
    "# Problem Parameters\n",
    "a = -0.5\n",
    "b = 0.5\n",
    "\n",
    "\n",
    "def exact(*x):\n",
    "    return np.prod(np.cos(np.asarray(x) * 2 * np.pi / (b - a)), axis=0)\n",
    "\n",
    "\n",
    "def f(*x):\n",
    "    return (len(x) * (2 * np.pi / (b - a)) ** 2 + 1) * exact(*x)  "
   ],
   "metadata": {
    "collapsed": false,
    "ExecuteTime": {
     "end_time": "2024-02-13T20:54:30.602045337Z",
     "start_time": "2024-02-13T20:54:29.860476365Z"
    }
   },
   "id": "eb562929bb1bb3b"
  },
  {
   "cell_type": "code",
   "execution_count": 2,
   "outputs": [
    {
     "ename": "AttributeError",
     "evalue": "'MultilevelCompositeFunction' object has no attribute 'grad'",
     "output_type": "error",
     "traceback": [
      "\u001B[0;31m---------------------------------------------------------------------------\u001B[0m",
      "\u001B[0;31mAttributeError\u001B[0m                            Traceback (most recent call last)",
      "Cell \u001B[0;32mIn[2], line 21\u001B[0m\n\u001B[1;32m     17\u001B[0m \u001B[38;5;66;03m# integrator = rad.integrate.QuadIntegrator(ranges)\u001B[39;00m\n\u001B[1;32m     18\u001B[0m \n\u001B[1;32m     19\u001B[0m \u001B[38;5;66;03m# Solve for approximate solution\u001B[39;00m\n\u001B[1;32m     20\u001B[0m solver \u001B[38;5;241m=\u001B[39m rad\u001B[38;5;241m.\u001B[39msolve\u001B[38;5;241m.\u001B[39mMultilevelSolver(rad\u001B[38;5;241m.\u001B[39msolve\u001B[38;5;241m.\u001B[39mHelmholtzSolver, phi, deltas, xcs, integrator, outer\u001B[38;5;241m=\u001B[39mouter)\n\u001B[0;32m---> 21\u001B[0m approx \u001B[38;5;241m=\u001B[39m \u001B[43msolver\u001B[49m\u001B[38;5;241;43m.\u001B[39;49m\u001B[43msolve\u001B[49m\u001B[43m(\u001B[49m\u001B[43mf\u001B[49m\u001B[43m)\u001B[49m\n\u001B[1;32m     22\u001B[0m error \u001B[38;5;241m=\u001B[39m rad\u001B[38;5;241m.\u001B[39merror(exact, approx, integrator)\n\u001B[1;32m     24\u001B[0m \u001B[38;5;28mprint\u001B[39m(\u001B[38;5;124m\"\u001B[39m\u001B[38;5;124mL2 Relative Error:\u001B[39m\u001B[38;5;124m\"\u001B[39m, error)\n",
      "File \u001B[0;32m~/Projects/radiant/radiant/solve/multilevel.py:16\u001B[0m, in \u001B[0;36mMultilevelSolver.solve\u001B[0;34m(self, func)\u001B[0m\n\u001B[1;32m     14\u001B[0m \u001B[38;5;28;01mfor\u001B[39;00m _ \u001B[38;5;129;01min\u001B[39;00m \u001B[38;5;28mrange\u001B[39m(\u001B[38;5;28mself\u001B[39m\u001B[38;5;241m.\u001B[39mouter):\n\u001B[1;32m     15\u001B[0m     \u001B[38;5;28;01mfor\u001B[39;00m solver \u001B[38;5;129;01min\u001B[39;00m \u001B[38;5;28mself\u001B[39m\u001B[38;5;241m.\u001B[39msolvers:\n\u001B[0;32m---> 16\u001B[0m         guess\u001B[38;5;241m.\u001B[39mappend(\u001B[43msolver\u001B[49m\u001B[38;5;241;43m.\u001B[39;49m\u001B[43msolve\u001B[49m\u001B[43m(\u001B[49m\u001B[43mfunc\u001B[49m\u001B[43m,\u001B[49m\u001B[43m \u001B[49m\u001B[43mguess\u001B[49m\u001B[38;5;241;43m=\u001B[39;49m\u001B[43mguess\u001B[49m\u001B[43m)\u001B[49m)\n\u001B[1;32m     18\u001B[0m \u001B[38;5;28;01mreturn\u001B[39;00m guess\n",
      "File \u001B[0;32m~/Projects/radiant/radiant/solve/base.py:32\u001B[0m, in \u001B[0;36mBaseSolver.solve\u001B[0;34m(self, func, guess)\u001B[0m\n\u001B[1;32m     29\u001B[0m \u001B[38;5;28;01mif\u001B[39;00m \u001B[38;5;28mself\u001B[39m\u001B[38;5;241m.\u001B[39mmat \u001B[38;5;129;01mis\u001B[39;00m \u001B[38;5;28;01mNone\u001B[39;00m:\n\u001B[1;32m     30\u001B[0m     \u001B[38;5;28mself\u001B[39m\u001B[38;5;241m.\u001B[39mgen_mat()\n\u001B[0;32m---> 32\u001B[0m \u001B[38;5;28;43mself\u001B[39;49m\u001B[38;5;241;43m.\u001B[39;49m\u001B[43mgen_rhs\u001B[49m\u001B[43m(\u001B[49m\u001B[43mfunc\u001B[49m\u001B[43m,\u001B[49m\u001B[43m \u001B[49m\u001B[43mguess\u001B[49m\u001B[43m)\u001B[49m\n\u001B[1;32m     34\u001B[0m w \u001B[38;5;241m=\u001B[39m cp\u001B[38;5;241m.\u001B[39mlinalg\u001B[38;5;241m.\u001B[39msolve(cp\u001B[38;5;241m.\u001B[39marray(\u001B[38;5;28mself\u001B[39m\u001B[38;5;241m.\u001B[39mmat), cp\u001B[38;5;241m.\u001B[39marray(\u001B[38;5;28mself\u001B[39m\u001B[38;5;241m.\u001B[39mb))\u001B[38;5;241m.\u001B[39mget()\n\u001B[1;32m     36\u001B[0m \u001B[38;5;28;01mreturn\u001B[39;00m CompositeFunction(\u001B[38;5;28mself\u001B[39m\u001B[38;5;241m.\u001B[39mphi, \u001B[38;5;28mself\u001B[39m\u001B[38;5;241m.\u001B[39mdelta, \u001B[38;5;241m*\u001B[39m\u001B[38;5;28mself\u001B[39m\u001B[38;5;241m.\u001B[39mxc, w\u001B[38;5;241m=\u001B[39mw)\n",
      "File \u001B[0;32m~/Projects/radiant/radiant/solve/helmholtz.py:55\u001B[0m, in \u001B[0;36mHelmholtzSolver.gen_rhs\u001B[0;34m(self, func, guess)\u001B[0m\n\u001B[1;32m     53\u001B[0m \u001B[38;5;28mself\u001B[39m\u001B[38;5;241m.\u001B[39mb \u001B[38;5;241m=\u001B[39m np\u001B[38;5;241m.\u001B[39mzeros(\u001B[38;5;28mself\u001B[39m\u001B[38;5;241m.\u001B[39mn)\n\u001B[1;32m     54\u001B[0m \u001B[38;5;28;01mfor\u001B[39;00m i, ci \u001B[38;5;129;01min\u001B[39;00m \u001B[38;5;28menumerate\u001B[39m(\u001B[38;5;28mzip\u001B[39m(\u001B[38;5;241m*\u001B[39m\u001B[38;5;28mself\u001B[39m\u001B[38;5;241m.\u001B[39mxc)):\n\u001B[0;32m---> 55\u001B[0m     \u001B[38;5;28mself\u001B[39m\u001B[38;5;241m.\u001B[39mb[i] \u001B[38;5;241m=\u001B[39m \u001B[38;5;28;43mself\u001B[39;49m\u001B[38;5;241;43m.\u001B[39;49m\u001B[43mintegrator\u001B[49m\u001B[43m(\u001B[49m\u001B[43m_rhs_integrand_factory\u001B[49m\u001B[43m(\u001B[49m\n\u001B[1;32m     56\u001B[0m \u001B[43m        \u001B[49m\u001B[43mfunc\u001B[49m\u001B[43m,\u001B[49m\u001B[43m \u001B[49m\u001B[38;5;28;43mself\u001B[39;49m\u001B[38;5;241;43m.\u001B[39;49m\u001B[43mphi\u001B[49m\u001B[43m,\u001B[49m\u001B[43m \u001B[49m\u001B[38;5;28;43mself\u001B[39;49m\u001B[38;5;241;43m.\u001B[39;49m\u001B[43mdelta\u001B[49m\u001B[43m,\u001B[49m\u001B[43m \u001B[49m\u001B[38;5;241;43m*\u001B[39;49m\u001B[43mci\u001B[49m\u001B[43m,\u001B[49m\u001B[43m \u001B[49m\u001B[43mguess\u001B[49m\u001B[38;5;241;43m=\u001B[39;49m\u001B[43mguess\u001B[49m\n\u001B[1;32m     57\u001B[0m \u001B[43m    \u001B[49m\u001B[43m)\u001B[49m\u001B[43m)\u001B[49m\n",
      "File \u001B[0;32m~/Projects/radiant/radiant/integrate/mean.py:15\u001B[0m, in \u001B[0;36mMeanIntegrator.__call__\u001B[0;34m(self, func)\u001B[0m\n\u001B[1;32m     14\u001B[0m \u001B[38;5;28;01mdef\u001B[39;00m \u001B[38;5;21m__call__\u001B[39m(\u001B[38;5;28mself\u001B[39m, func):\n\u001B[0;32m---> 15\u001B[0m     \u001B[38;5;28;01mreturn\u001B[39;00m (\u001B[38;5;28mself\u001B[39m\u001B[38;5;241m.\u001B[39mmeasure \u001B[38;5;241m*\u001B[39m cp\u001B[38;5;241m.\u001B[39mmean(cp\u001B[38;5;241m.\u001B[39marray(\u001B[43mfunc\u001B[49m\u001B[43m(\u001B[49m\u001B[38;5;241;43m*\u001B[39;49m\u001B[38;5;28;43mself\u001B[39;49m\u001B[38;5;241;43m.\u001B[39;49m\u001B[43mx\u001B[49m\u001B[43m)\u001B[49m)))\u001B[38;5;241m.\u001B[39mget()\n",
      "File \u001B[0;32m~/Projects/radiant/radiant/solve/helmholtz.py:25\u001B[0m, in \u001B[0;36m_rhs_integrand_factory.<locals>.func\u001B[0;34m(*x)\u001B[0m\n\u001B[1;32m     23\u001B[0m \u001B[38;5;28;01mdef\u001B[39;00m \u001B[38;5;21mfunc\u001B[39m(\u001B[38;5;241m*\u001B[39mx):\n\u001B[1;32m     24\u001B[0m     \u001B[38;5;28;01mreturn\u001B[39;00m (f(\u001B[38;5;241m*\u001B[39mx) \u001B[38;5;241m*\u001B[39m phi(delta, \u001B[38;5;241m*\u001B[39mx, \u001B[38;5;241m*\u001B[39mci) \u001B[38;5;241m-\u001B[39m\n\u001B[0;32m---> 25\u001B[0m             dot(\u001B[43mguess\u001B[49m\u001B[38;5;241;43m.\u001B[39;49m\u001B[43mgrad\u001B[49m(\u001B[38;5;241m*\u001B[39mx), phi\u001B[38;5;241m.\u001B[39mgrad(delta, \u001B[38;5;241m*\u001B[39mx, \u001B[38;5;241m*\u001B[39mci)) \u001B[38;5;241m-\u001B[39m\n\u001B[1;32m     26\u001B[0m             guess(\u001B[38;5;241m*\u001B[39mx) \u001B[38;5;241m*\u001B[39m phi(delta, \u001B[38;5;241m*\u001B[39mx, \u001B[38;5;241m*\u001B[39mci))\n",
      "\u001B[0;31mAttributeError\u001B[0m: 'MultilevelCompositeFunction' object has no attribute 'grad'"
     ]
    }
   ],
   "source": [
    "# Parameters\n",
    "d = 1\n",
    "k = 1\n",
    "inner = 5\n",
    "outer = 3\n",
    "start_delta = 1.\n",
    "start_N = 3\n",
    "\n",
    "# Computed Parameters\n",
    "ranges = ((a, b),) * d\n",
    "phi = rad.Wendland(d, k)\n",
    "centre_thinning = 2. ** np.arange(0, inner)\n",
    "delta_thinning = 2. ** np.arange(0, inner)\n",
    "xcs = [rad.gridinc(ranges, inc, flat=True) for inc in (b - a) / (centre_thinning * start_N)]\n",
    "deltas = start_delta / delta_thinning\n",
    "integrator = rad.integrate.MeanIntegrator(ranges, 200)\n",
    "# integrator = rad.integrate.QuadIntegrator(ranges)\n",
    "\n",
    "# Solve for approximate solution\n",
    "solver = rad.solve.MultilevelSolver(rad.solve.HelmholtzSolver, phi, deltas, xcs, integrator, outer=outer)\n",
    "approx = solver.solve(f)\n",
    "error = rad.error(exact, approx, integrator)\n",
    "\n",
    "print(\"L2 Relative Error:\", error)\n",
    "print(\"Condition Number:\", solver.cond())"
   ],
   "metadata": {
    "collapsed": false,
    "ExecuteTime": {
     "end_time": "2024-02-13T20:54:30.987692246Z",
     "start_time": "2024-02-13T20:54:30.614173881Z"
    }
   },
   "id": "2ffd7d4b4af23bf6"
  },
  {
   "cell_type": "code",
   "execution_count": null,
   "outputs": [],
   "source": [
    "rad.plot.spread(\n",
    "    ranges,\n",
    "    exact,\n",
    "    approx,\n",
    "    lambda *x: np.abs(exact(*x) - approx(*x)),\n",
    "    n=200,\n",
    "    wspace=0.5,\n",
    "    hspace=0.5,\n",
    "    titles=[\"Exact\", \"Approximate\", \"Abs. Error\"],\n",
    "    figsize=(15, 4)\n",
    ")"
   ],
   "metadata": {
    "collapsed": false,
    "ExecuteTime": {
     "start_time": "2024-02-13T20:54:30.981767984Z"
    }
   },
   "id": "2230448d3cb39233"
  },
  {
   "cell_type": "code",
   "execution_count": null,
   "outputs": [],
   "source": [
    "if d == 1:\n",
    "    from IPython.display import HTML, display_html\n",
    "    \n",
    "    \n",
    "    anim = rad.animate.ml_animate(ranges, exact, approx, n=200, figsize=(10, 4))\n",
    "    display_html(HTML(anim.to_jshtml()))"
   ],
   "metadata": {
    "collapsed": false,
    "ExecuteTime": {
     "start_time": "2024-02-13T20:54:30.983733939Z"
    }
   },
   "id": "e15ed392b6cb0965"
  }
 ],
 "metadata": {
  "kernelspec": {
   "display_name": "Python 3",
   "language": "python",
   "name": "python3"
  },
  "language_info": {
   "codemirror_mode": {
    "name": "ipython",
    "version": 2
   },
   "file_extension": ".py",
   "mimetype": "text/x-python",
   "name": "python",
   "nbconvert_exporter": "python",
   "pygments_lexer": "ipython2",
   "version": "2.7.6"
  }
 },
 "nbformat": 4,
 "nbformat_minor": 5
}

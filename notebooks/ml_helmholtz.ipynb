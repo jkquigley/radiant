{
 "cells": [
  {
   "cell_type": "code",
   "execution_count": null,
   "outputs": [],
   "source": [
    "#######################\n",
    "# Interpolates some f #\n",
    "#######################\n",
    "import radiant as rad\n",
    "import numpy as np\n",
    "\n",
    "\n",
    "# Problem Parameters\n",
    "a = -0.5\n",
    "b = 0.5\n",
    "\n",
    "\n",
    "def exact(*x):\n",
    "    return np.prod(np.cos(np.asarray(x) * 2 * np.pi / (b - a)), axis=0)\n",
    "\n",
    "\n",
    "def f(*x):\n",
    "    return (len(x) * (2 * np.pi / (b - a)) ** 2 + 1) * exact(*x)  "
   ],
   "metadata": {
    "collapsed": false
   },
   "id": "eb562929bb1bb3b"
  },
  {
   "cell_type": "code",
   "execution_count": null,
   "outputs": [],
   "source": [
    "# Parameters\n",
    "d = 2\n",
    "k = 1\n",
    "inner = 4\n",
    "outer = 1\n",
    "start_delta = 1.\n",
    "start_N = 3\n",
    "\n",
    "# Computed Parameters\n",
    "ranges = ((a, b),) * d\n",
    "phi = rad.Wendland(d, k)\n",
    "centre_thinning = 1.3 ** np.arange(inner)\n",
    "delta_thinning = 1.5 ** np.arange(inner)\n",
    "xcs = [rad.gridinc(ranges, inc, flat=True) for inc in (b - a) / (centre_thinning * start_N)]\n",
    "deltas = start_delta / delta_thinning\n",
    "integrator = rad.integrate.MeanIntegrator(ranges, 200)\n",
    "# integrator = rad.integrate.QuadIntegrator(ranges)\n",
    "\n",
    "# Solve for approximate solution\n",
    "solver = rad.solve.MultilevelSolver(rad.solve.HelmholtzSolver, phi, deltas, xcs, integrator, outer=outer)\n",
    "approx = solver.solve(f)\n",
    "error = rad.error(exact, approx, integrator)\n",
    "\n",
    "print(\"L2 Relative Error:\", error)\n",
    "print(\"Condition Numbers:\", solver.cond())"
   ],
   "metadata": {
    "collapsed": false
   },
   "id": "2ffd7d4b4af23bf6"
  },
  {
   "cell_type": "code",
   "execution_count": null,
   "outputs": [],
   "source": [
    "rad.plot.spread(\n",
    "    ranges,\n",
    "    exact,\n",
    "    approx,\n",
    "    lambda *x: np.abs(exact(*x) - approx(*x)),\n",
    "    n=200,\n",
    "    wspace=0.5,\n",
    "    hspace=0.5,\n",
    "    titles=[\"Exact\", \"Approximate\", \"Abs. Error\"],\n",
    "    figsize=(15, 4)\n",
    ")"
   ],
   "metadata": {
    "collapsed": false
   },
   "id": "2230448d3cb39233"
  },
  {
   "cell_type": "code",
   "execution_count": null,
   "outputs": [],
   "source": [
    "if d == 1:\n",
    "    from IPython.display import HTML, display_html\n",
    "    \n",
    "    \n",
    "    anim = rad.animate.ml_animate(ranges, exact, approx, n=200, figsize=(10, 4))\n",
    "    display_html(HTML(anim.to_jshtml()))\n",
    "    \n",
    "    rad.plot.thinning(deltas, xcs, d, figsize=(10, 4))"
   ],
   "metadata": {
    "collapsed": false
   },
   "id": "e15ed392b6cb0965"
  }
 ],
 "metadata": {
  "kernelspec": {
   "display_name": "Python 3",
   "language": "python",
   "name": "python3"
  },
  "language_info": {
   "codemirror_mode": {
    "name": "ipython",
    "version": 2
   },
   "file_extension": ".py",
   "mimetype": "text/x-python",
   "name": "python",
   "nbconvert_exporter": "python",
   "pygments_lexer": "ipython2",
   "version": "2.7.6"
  }
 },
 "nbformat": 4,
 "nbformat_minor": 5
}

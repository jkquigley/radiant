{
 "cells": [
  {
   "cell_type": "code",
   "execution_count": 1,
   "outputs": [],
   "source": [
    "##############################\n",
    "# Solves -u'' + u = f        #\n",
    "# With zero Neumann boundary #\n",
    "##############################\n",
    "import radiant as rad\n",
    "import numpy as np\n",
    "\n",
    "\n",
    "# Problem Parameters\n",
    "a = -0.5\n",
    "b = 0.5\n",
    "\n",
    "\n",
    "def exact(*x):\n",
    "    return np.prod(np.cos(np.asarray(x) * 2 * np.pi / (b - a)), axis=0)\n",
    "\n",
    "\n",
    "def f(*x):\n",
    "    return (len(x) * (2 * np.pi / (b - a)) ** 2 + 1) * exact(*x)  "
   ],
   "metadata": {
    "collapsed": false,
    "ExecuteTime": {
     "end_time": "2024-02-16T16:03:28.885717142Z",
     "start_time": "2024-02-16T16:03:28.096031244Z"
    }
   },
   "id": "eb562929bb1bb3b"
  },
  {
   "cell_type": "code",
   "execution_count": 2,
   "outputs": [
    {
     "name": "stdout",
     "output_type": "stream",
     "text": [
      "N: 10\n",
      "  L2 Relative Error: 0.8597771060880893\n",
      "  Condition Number: 4.336854696011679\n",
      "N: 20\n",
      "  L2 Relative Error: 0.4707906739698844\n",
      "  Condition Number: 214.06973896959437\n",
      "N: 30\n",
      "  L2 Relative Error: 1.616954744742852\n",
      "  Condition Number: 1217.184349394499\n",
      "N: 40\n",
      "  L2 Relative Error: 0.5161771000025139\n",
      "  Condition Number: 784.6120255376547\n",
      "N: 50\n",
      "  L2 Relative Error: 0.24688796333004068\n",
      "  Condition Number: 6242.274922411546\n",
      "N: 60\n",
      "  L2 Relative Error: 0.14285541464298995\n",
      "  Condition Number: 11845.276586770433\n",
      "N: 70\n",
      "  L2 Relative Error: 0.09172933701410331\n",
      "  Condition Number: 47253.63887415098\n",
      "N: 80\n",
      "  L2 Relative Error: 0.06738644699825794\n",
      "  Condition Number: 80989.08699761685\n",
      "N: 90\n",
      "  L2 Relative Error: 0.05660994736426542\n",
      "  Condition Number: 214306.08351270584\n",
      "N: 100\n",
      "  L2 Relative Error: 0.052754045797435915\n",
      "  Condition Number: 341122.1051713184\n"
     ]
    }
   ],
   "source": [
    "# Parameters\n",
    "d = 1\n",
    "k = 1\n",
    "delta = 0.1\n",
    "Ns = np.linspace(10, 100, 10, dtype=int)\n",
    "\n",
    "# Computed Parameters\n",
    "ranges = ((a, b),) * d\n",
    "\n",
    "# Integration\n",
    "integrator = rad.integrate.MeanIntegrator(ranges, 2000)\n",
    "error_integrator = rad.integrate.QuadIntegrator(ranges)\n",
    "\n",
    "# Data collection\n",
    "results = np.zeros((np.size(Ns), 2))\n",
    "\n",
    "for i, N in enumerate(Ns):\n",
    "    xc = rad.gridn(ranges, N, flat=True)\n",
    "\n",
    "    # Solve for approximate solution\n",
    "    solver = rad.solve.GalerkinSolver(d, k, delta, xc, integrator, \"helmholtz\")\n",
    "    approx = solver.solve(f)\n",
    "    error = rad.error(exact, approx, error_integrator)\n",
    "    cond = solver.cond()\n",
    "    \n",
    "    results[i,0] = error \n",
    "    results[i, 1] = solver.cond()\n",
    "    \n",
    "    print(\"N:\", N)\n",
    "    print(\"  L2 Relative Error:\", error)\n",
    "    print(\"  Condition Number:\", solver.cond())"
   ],
   "metadata": {
    "collapsed": false,
    "ExecuteTime": {
     "end_time": "2024-02-16T16:03:39.348718773Z",
     "start_time": "2024-02-16T16:03:28.884397208Z"
    }
   },
   "id": "2ffd7d4b4af23bf6"
  },
  {
   "cell_type": "code",
   "execution_count": 3,
   "outputs": [
    {
     "data": {
      "text/plain": "<Figure size 1000x400 with 2 Axes>",
      "image/png": "[encoded data removed]"
     },
     "metadata": {},
     "output_type": "display_data"
    }
   ],
   "source": [
    "import matplotlib.pyplot as plt\n",
    "\n",
    "\n",
    "fig, axs = plt.subplots(1, 2, figsize=(10,4))\n",
    "\n",
    "axs[0].set_xlabel(\"No. Centres\")\n",
    "axs[0].set_ylabel(r\"$L^{2}$ Relative Error\")\n",
    "axs[0].set_yscale('log')\n",
    "axs[0].plot(Ns, results[:, 0], '.')\n",
    "\n",
    "axs[1].set_xlabel(\"No. Centres\")\n",
    "axs[1].set_ylabel(\"Matrix Condition Number\")\n",
    "axs[1].set_yscale('log')\n",
    "axs[1].plot(Ns, results[:, 1], '.')\n",
    "\n",
    "plt.subplots_adjust(wspace=0.5)\n",
    "plt.show()"
   ],
   "metadata": {
    "collapsed": false,
    "ExecuteTime": {
     "end_time": "2024-02-16T16:03:39.895497112Z",
     "start_time": "2024-02-16T16:03:39.360948044Z"
    }
   },
   "id": "2230448d3cb39233"
  }
 ],
 "metadata": {
  "kernelspec": {
   "display_name": "Python 3",
   "language": "python",
   "name": "python3"
  },
  "language_info": {
   "codemirror_mode": {
    "name": "ipython",
    "version": 2
   },
   "file_extension": ".py",
   "mimetype": "text/x-python",
   "name": "python",
   "nbconvert_exporter": "python",
   "pygments_lexer": "ipython2",
   "version": "2.7.6"
  }
 },
 "nbformat": 4,
 "nbformat_minor": 5
}

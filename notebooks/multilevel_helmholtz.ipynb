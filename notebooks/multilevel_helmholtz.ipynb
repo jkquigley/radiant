{
 "cells": [
  {
   "cell_type": "code",
   "execution_count": 42,
   "outputs": [],
   "source": [
    "##############################\n",
    "# Solves -u'' + u = f        #\n",
    "# With zero Neumann boundary #\n",
    "##############################\n",
    "import radiant as rad\n",
    "import cupy as cp\n",
    "from IPython.display import HTML\n",
    "\n",
    "\n",
    "# Problem Parameters\n",
    "a = - cp.pi\n",
    "b = cp.pi\n",
    "\n",
    "\n",
    "def u(x):\n",
    "    return cp.sin(x * 2 * cp.pi / (b - a))\n",
    "\n",
    "\n",
    "def f(x):\n",
    "    return ((2 * cp.pi / (b - a)) ** 2 + 1) * cp.sin(x * 2 * cp.pi / (b - a))"
   ],
   "metadata": {
    "collapsed": false,
    "ExecuteTime": {
     "end_time": "2024-02-02T02:58:54.233828728Z",
     "start_time": "2024-02-02T02:58:54.186316395Z"
    }
   },
   "id": "eb562929bb1bb3b"
  },
  {
   "cell_type": "code",
   "execution_count": null,
   "outputs": [],
   "source": [
    "# Parameters\n",
    "d = 1\n",
    "k = 1\n",
    "inner_levels = 5\n",
    "outer_levels = 5\n",
    "start_ncentres = 25\n",
    "start_delta = 2.\n",
    "\n",
    "# Computed parameters\n",
    "phi = rad.Wendland(d, k)\n",
    "thinning = 2. ** cp.arange(0, inner_levels)\n",
    "centres = [cp.arange(a, b + inc, inc) for inc in (b - a) / (thinning * start_ncentres)]\n",
    "delta = start_delta / thinning\n",
    "\n",
    "# Integration\n",
    "integrator = rad.integrate.TrapezoidIntegrator(a, b, 5000)\n",
    "error_integrator = rad.integrate.LeggaussIntegrator(a, b, 500)\n",
    "\n",
    "# Solve for approximate solution\n",
    "solver = rad.solve.MultilevelSolver(phi, centres, delta, rad.solve.HelmholtzBaseSolver, integrator, outer=outer_levels)\n",
    "approx = solver.solve(f)\n",
    "error = rad.error(u, approx, error_integrator)\n",
    "\n",
    "print(\"L2 Relative Error:\", error)\n",
    "# print(\"Condition Numbers:\", solver.cond())"
   ],
   "metadata": {
    "collapsed": false,
    "is_executing": true,
    "ExecuteTime": {
     "start_time": "2024-02-02T02:58:54.227646508Z"
    }
   },
   "id": "2ffd7d4b4af23bf6"
  },
  {
   "cell_type": "code",
   "execution_count": null,
   "outputs": [],
   "source": [
    "rad.plot.many(a, b, u, approx, labels=[\"Exact\", \"Approx\"])"
   ],
   "metadata": {
    "collapsed": false,
    "is_executing": true
   },
   "id": "2230448d3cb39233"
  },
  {
   "cell_type": "code",
   "execution_count": null,
   "outputs": [],
   "source": [
    "anim = rad.animate.ml_animate(u, approx, a, b)\n",
    "HTML(anim.to_jshtml())"
   ],
   "metadata": {
    "collapsed": false,
    "is_executing": true
   },
   "id": "59063f7216d91f97"
  },
  {
   "cell_type": "code",
   "execution_count": null,
   "outputs": [],
   "source": [
    "rad.plot.thinning(centres, delta, figsize=(15, 2))"
   ],
   "metadata": {
    "collapsed": false,
    "is_executing": true
   },
   "id": "2fa744495af7d4c9"
  }
 ],
 "metadata": {
  "kernelspec": {
   "display_name": "Python 3",
   "language": "python",
   "name": "python3"
  },
  "language_info": {
   "codemirror_mode": {
    "name": "ipython",
    "version": 2
   },
   "file_extension": ".py",
   "mimetype": "text/x-python",
   "name": "python",
   "nbconvert_exporter": "python",
   "pygments_lexer": "ipython2",
   "version": "2.7.6"
  }
 },
 "nbformat": 4,
 "nbformat_minor": 5
}

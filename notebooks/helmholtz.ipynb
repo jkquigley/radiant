{
 "cells": [
  {
   "cell_type": "code",
   "execution_count": 3,
   "outputs": [],
   "source": [
    "##############################\n",
    "# Solves -u'' + u = f        #\n",
    "# With zero Neumann boundary #\n",
    "##############################\n",
    "import radiant as rad\n",
    "import numpy as np\n",
    "\n",
    "\n",
    "# Problem Parameters\n",
    "a = -1.\n",
    "b = 1\n",
    "\n",
    "\n",
    "def exact(*x):\n",
    "    return np.prod(np.cos(np.asarray(x) * 2 * np.pi / (b - a)), axis=0)\n",
    "\n",
    "\n",
    "def f(*x):\n",
    "    return ((2 * np.pi / (b - a)) ** 2 + 1) * np.sum(np.cos(np.asarray(x) * 2 * np.pi / (b - a)), axis=0)"
   ],
   "metadata": {
    "collapsed": false,
    "ExecuteTime": {
     "end_time": "2024-02-13T00:43:50.704859378Z",
     "start_time": "2024-02-13T00:43:50.662250831Z"
    }
   },
   "id": "eb562929bb1bb3b"
  },
  {
   "cell_type": "code",
   "execution_count": null,
   "outputs": [],
   "source": [
    "# Parameters\n",
    "d = 2\n",
    "k = 1\n",
    "delta = 0.5\n",
    "N = 9\n",
    "\n",
    "# Computed Parameters\n",
    "ranges = ((a, b),) * d\n",
    "phi = rad.Wendland(d, k)\n",
    "xc = rad.gridn(ranges, N, flat=True)\n",
    "# integrator = rad.integrate.MeanIntegrator(ranges, 200)\n",
    "# integrator = rad.integrate.TrapezoidIntegrator(ranges, 200)\n",
    "integrator = rad.integrate.QuadIntegrator(ranges)\n",
    "\n",
    "# Solve for approximate solution\n",
    "solver = rad.solve.HelmholtzSolver(integrator, phi, delta, *xc)\n",
    "approx = solver.solve(f)\n",
    "error = rad.error(exact, approx, integrator)\n",
    "\n",
    "print(\"L2 Relative Error:\", error)\n",
    "print(\"Condition Number:\", solver.cond())"
   ],
   "metadata": {
    "collapsed": false,
    "is_executing": true,
    "ExecuteTime": {
     "start_time": "2024-02-13T00:43:50.704679538Z"
    }
   },
   "id": "2ffd7d4b4af23bf6"
  },
  {
   "cell_type": "code",
   "execution_count": null,
   "outputs": [],
   "source": [
    "rad.plot.spread(\n",
    "    ranges,\n",
    "    exact,\n",
    "    approx,\n",
    "    lambda *x: np.abs(exact(*x) - approx(*x)),\n",
    "    n=200,\n",
    "    titles=[\"Exact\", \"Approximate\", \"Abs. Error\"],\n",
    "    figsize=(15, 4)\n",
    ")"
   ],
   "metadata": {
    "collapsed": false,
    "is_executing": true
   },
   "id": "2230448d3cb39233"
  }
 ],
 "metadata": {
  "kernelspec": {
   "display_name": "Python 3",
   "language": "python",
   "name": "python3"
  },
  "language_info": {
   "codemirror_mode": {
    "name": "ipython",
    "version": 2
   },
   "file_extension": ".py",
   "mimetype": "text/x-python",
   "name": "python",
   "nbconvert_exporter": "python",
   "pygments_lexer": "ipython2",
   "version": "2.7.6"
  }
 },
 "nbformat": 4,
 "nbformat_minor": 5
}
